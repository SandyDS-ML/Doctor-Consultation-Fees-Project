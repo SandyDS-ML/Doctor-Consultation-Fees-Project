{
 "cells": [
  {
   "cell_type": "markdown",
   "metadata": {},
   "source": [
    "###  Project\n",
    "                          \n",
    "#    Doctor Consultation Fees Prediction\n",
    "                            \n",
    "##   Linear Regression "
   ]
  },
  {
   "cell_type": "code",
   "execution_count": 1,
   "metadata": {},
   "outputs": [],
   "source": [
    "import pandas as pd\n",
    "import numpy as np\n",
    "import seaborn as sns\n",
    "import re\n",
    "import warnings \n",
    "warnings.filterwarnings('ignore')"
   ]
  },
  {
   "cell_type": "code",
   "execution_count": 2,
   "metadata": {},
   "outputs": [],
   "source": [
    "df_train=pd.read_excel('C:/Users\\Sande\\Downloads\\Doctor_fee_consultation\\Final Participant Data Folder\\Final_Train.xlsx')\n",
    "df_test=pd.read_excel(\"C:/Users\\Sande\\Downloads\\Doctor_fee_consultation\\Final Participant Data Folder\\Final_Test.xlsx\")"
   ]
  },
  {
   "cell_type": "code",
   "execution_count": 3,
   "metadata": {},
   "outputs": [
    {
     "data": {
      "text/html": [
       "<div>\n",
       "<style scoped>\n",
       "    .dataframe tbody tr th:only-of-type {\n",
       "        vertical-align: middle;\n",
       "    }\n",
       "\n",
       "    .dataframe tbody tr th {\n",
       "        vertical-align: top;\n",
       "    }\n",
       "\n",
       "    .dataframe thead th {\n",
       "        text-align: right;\n",
       "    }\n",
       "</style>\n",
       "<table border=\"1\" class=\"dataframe\">\n",
       "  <thead>\n",
       "    <tr style=\"text-align: right;\">\n",
       "      <th></th>\n",
       "      <th>Qualification</th>\n",
       "      <th>Experience</th>\n",
       "      <th>Rating</th>\n",
       "      <th>Place</th>\n",
       "      <th>Profile</th>\n",
       "      <th>Miscellaneous_Info</th>\n",
       "      <th>Fees</th>\n",
       "    </tr>\n",
       "  </thead>\n",
       "  <tbody>\n",
       "    <tr>\n",
       "      <th>0</th>\n",
       "      <td>BHMS, MD - Homeopathy</td>\n",
       "      <td>24 years experience</td>\n",
       "      <td>100%</td>\n",
       "      <td>Kakkanad, Ernakulam</td>\n",
       "      <td>Homeopath</td>\n",
       "      <td>100% 16 Feedback Kakkanad, Ernakulam</td>\n",
       "      <td>100</td>\n",
       "    </tr>\n",
       "    <tr>\n",
       "      <th>1</th>\n",
       "      <td>BAMS, MD - Ayurveda Medicine</td>\n",
       "      <td>12 years experience</td>\n",
       "      <td>98%</td>\n",
       "      <td>Whitefield, Bangalore</td>\n",
       "      <td>Ayurveda</td>\n",
       "      <td>98% 76 Feedback Whitefield, Bangalore</td>\n",
       "      <td>350</td>\n",
       "    </tr>\n",
       "    <tr>\n",
       "      <th>2</th>\n",
       "      <td>MBBS, MS - Otorhinolaryngology</td>\n",
       "      <td>9 years experience</td>\n",
       "      <td>NaN</td>\n",
       "      <td>Mathikere - BEL, Bangalore</td>\n",
       "      <td>ENT Specialist</td>\n",
       "      <td>NaN</td>\n",
       "      <td>300</td>\n",
       "    </tr>\n",
       "    <tr>\n",
       "      <th>3</th>\n",
       "      <td>BSc - Zoology, BAMS</td>\n",
       "      <td>12 years experience</td>\n",
       "      <td>NaN</td>\n",
       "      <td>Bannerghatta Road, Bangalore</td>\n",
       "      <td>Ayurveda</td>\n",
       "      <td>Bannerghatta Road, Bangalore ₹250 Available on...</td>\n",
       "      <td>250</td>\n",
       "    </tr>\n",
       "    <tr>\n",
       "      <th>4</th>\n",
       "      <td>BAMS</td>\n",
       "      <td>20 years experience</td>\n",
       "      <td>100%</td>\n",
       "      <td>Keelkattalai, Chennai</td>\n",
       "      <td>Ayurveda</td>\n",
       "      <td>100% 4 Feedback Keelkattalai, Chennai</td>\n",
       "      <td>250</td>\n",
       "    </tr>\n",
       "  </tbody>\n",
       "</table>\n",
       "</div>"
      ],
      "text/plain": [
       "                    Qualification           Experience Rating  \\\n",
       "0           BHMS, MD - Homeopathy  24 years experience   100%   \n",
       "1    BAMS, MD - Ayurveda Medicine  12 years experience    98%   \n",
       "2  MBBS, MS - Otorhinolaryngology   9 years experience    NaN   \n",
       "3             BSc - Zoology, BAMS  12 years experience    NaN   \n",
       "4                            BAMS  20 years experience   100%   \n",
       "\n",
       "                          Place         Profile  \\\n",
       "0           Kakkanad, Ernakulam       Homeopath   \n",
       "1         Whitefield, Bangalore        Ayurveda   \n",
       "2    Mathikere - BEL, Bangalore  ENT Specialist   \n",
       "3  Bannerghatta Road, Bangalore        Ayurveda   \n",
       "4         Keelkattalai, Chennai        Ayurveda   \n",
       "\n",
       "                                  Miscellaneous_Info  Fees  \n",
       "0               100% 16 Feedback Kakkanad, Ernakulam   100  \n",
       "1              98% 76 Feedback Whitefield, Bangalore   350  \n",
       "2                                                NaN   300  \n",
       "3  Bannerghatta Road, Bangalore ₹250 Available on...   250  \n",
       "4              100% 4 Feedback Keelkattalai, Chennai   250  "
      ]
     },
     "execution_count": 3,
     "metadata": {},
     "output_type": "execute_result"
    }
   ],
   "source": [
    "df_train.head()"
   ]
  },
  {
   "cell_type": "code",
   "execution_count": 4,
   "metadata": {},
   "outputs": [
    {
     "data": {
      "text/html": [
       "<div>\n",
       "<style scoped>\n",
       "    .dataframe tbody tr th:only-of-type {\n",
       "        vertical-align: middle;\n",
       "    }\n",
       "\n",
       "    .dataframe tbody tr th {\n",
       "        vertical-align: top;\n",
       "    }\n",
       "\n",
       "    .dataframe thead th {\n",
       "        text-align: right;\n",
       "    }\n",
       "</style>\n",
       "<table border=\"1\" class=\"dataframe\">\n",
       "  <thead>\n",
       "    <tr style=\"text-align: right;\">\n",
       "      <th></th>\n",
       "      <th>Qualification</th>\n",
       "      <th>Experience</th>\n",
       "      <th>Rating</th>\n",
       "      <th>Place</th>\n",
       "      <th>Profile</th>\n",
       "      <th>Miscellaneous_Info</th>\n",
       "    </tr>\n",
       "  </thead>\n",
       "  <tbody>\n",
       "    <tr>\n",
       "      <th>0</th>\n",
       "      <td>MBBS</td>\n",
       "      <td>35 years experience</td>\n",
       "      <td>NaN</td>\n",
       "      <td>Ghatkopar East, Mumbai</td>\n",
       "      <td>General Medicine</td>\n",
       "      <td>NaN</td>\n",
       "    </tr>\n",
       "    <tr>\n",
       "      <th>1</th>\n",
       "      <td>MBBS, Diploma in Otorhinolaryngology (DLO)</td>\n",
       "      <td>31 years experience</td>\n",
       "      <td>NaN</td>\n",
       "      <td>West Marredpally, Hyderabad</td>\n",
       "      <td>ENT Specialist</td>\n",
       "      <td>NaN</td>\n",
       "    </tr>\n",
       "    <tr>\n",
       "      <th>2</th>\n",
       "      <td>MBBS, DDVL</td>\n",
       "      <td>40 years experience</td>\n",
       "      <td>70%</td>\n",
       "      <td>KK Nagar, Chennai</td>\n",
       "      <td>Dermatologists</td>\n",
       "      <td>70% 4 Feedback KK Nagar, Chennai</td>\n",
       "    </tr>\n",
       "    <tr>\n",
       "      <th>3</th>\n",
       "      <td>BAMS</td>\n",
       "      <td>0 years experience</td>\n",
       "      <td>NaN</td>\n",
       "      <td>New Ashok Nagar, Delhi</td>\n",
       "      <td>Ayurveda</td>\n",
       "      <td>NaN</td>\n",
       "    </tr>\n",
       "    <tr>\n",
       "      <th>4</th>\n",
       "      <td>BDS, MDS - Conservative Dentistry &amp; Endodontics</td>\n",
       "      <td>16 years experience</td>\n",
       "      <td>100%</td>\n",
       "      <td>Kanakpura Road, Bangalore</td>\n",
       "      <td>Dentist</td>\n",
       "      <td>General Dentistry Conservative Dentistry Cosme...</td>\n",
       "    </tr>\n",
       "  </tbody>\n",
       "</table>\n",
       "</div>"
      ],
      "text/plain": [
       "                                     Qualification           Experience  \\\n",
       "0                                             MBBS  35 years experience   \n",
       "1       MBBS, Diploma in Otorhinolaryngology (DLO)  31 years experience   \n",
       "2                                       MBBS, DDVL  40 years experience   \n",
       "3                                             BAMS   0 years experience   \n",
       "4  BDS, MDS - Conservative Dentistry & Endodontics  16 years experience   \n",
       "\n",
       "  Rating                        Place           Profile  \\\n",
       "0    NaN       Ghatkopar East, Mumbai  General Medicine   \n",
       "1    NaN  West Marredpally, Hyderabad    ENT Specialist   \n",
       "2    70%            KK Nagar, Chennai    Dermatologists   \n",
       "3    NaN       New Ashok Nagar, Delhi          Ayurveda   \n",
       "4   100%    Kanakpura Road, Bangalore           Dentist   \n",
       "\n",
       "                                  Miscellaneous_Info  \n",
       "0                                                NaN  \n",
       "1                                                NaN  \n",
       "2                   70% 4 Feedback KK Nagar, Chennai  \n",
       "3                                                NaN  \n",
       "4  General Dentistry Conservative Dentistry Cosme...  "
      ]
     },
     "execution_count": 4,
     "metadata": {},
     "output_type": "execute_result"
    }
   ],
   "source": [
    "df_test.head()"
   ]
  },
  {
   "cell_type": "code",
   "execution_count": 5,
   "metadata": {},
   "outputs": [
    {
     "data": {
      "text/plain": [
       "(5961, 7)"
      ]
     },
     "execution_count": 5,
     "metadata": {},
     "output_type": "execute_result"
    }
   ],
   "source": [
    "df_train.shape"
   ]
  },
  {
   "cell_type": "code",
   "execution_count": 6,
   "metadata": {},
   "outputs": [
    {
     "data": {
      "text/plain": [
       "(1987, 6)"
      ]
     },
     "execution_count": 6,
     "metadata": {},
     "output_type": "execute_result"
    }
   ],
   "source": [
    "df_test.shape"
   ]
  },
  {
   "cell_type": "code",
   "execution_count": 7,
   "metadata": {},
   "outputs": [
    {
     "name": "stdout",
     "output_type": "stream",
     "text": [
      "Qualification:  1420\n",
      "Experience :  64\n",
      "Rating :  51\n",
      "Place :  877\n",
      "Profile :  6\n"
     ]
    }
   ],
   "source": [
    "# finding the unique values in every categorical columns\n",
    "print('Qualification: ',df_train['Qualification'].nunique())\n",
    "print('Experience : ',df_train['Experience'].nunique())\n",
    "print('Rating : ',df_train['Rating'].nunique())\n",
    "print('Place : ',df_train['Place'].nunique())\n",
    "print('Profile : ',df_train['Profile'].nunique())"
   ]
  },
  {
   "cell_type": "markdown",
   "metadata": {},
   "source": [
    "### Data Pre-processing"
   ]
  },
  {
   "cell_type": "code",
   "execution_count": 8,
   "metadata": {},
   "outputs": [
    {
     "data": {
      "text/html": [
       "<div>\n",
       "<style scoped>\n",
       "    .dataframe tbody tr th:only-of-type {\n",
       "        vertical-align: middle;\n",
       "    }\n",
       "\n",
       "    .dataframe tbody tr th {\n",
       "        vertical-align: top;\n",
       "    }\n",
       "\n",
       "    .dataframe thead th {\n",
       "        text-align: right;\n",
       "    }\n",
       "</style>\n",
       "<table border=\"1\" class=\"dataframe\">\n",
       "  <thead>\n",
       "    <tr style=\"text-align: right;\">\n",
       "      <th></th>\n",
       "      <th>Qualification</th>\n",
       "      <th>Experience</th>\n",
       "      <th>Rating</th>\n",
       "      <th>Place</th>\n",
       "      <th>Profile</th>\n",
       "      <th>Miscellaneous_Info</th>\n",
       "      <th>Fees</th>\n",
       "      <th>City</th>\n",
       "      <th>Area</th>\n",
       "    </tr>\n",
       "  </thead>\n",
       "  <tbody>\n",
       "    <tr>\n",
       "      <th>0</th>\n",
       "      <td>BHMS, MD - Homeopathy</td>\n",
       "      <td>24 years experience</td>\n",
       "      <td>100%</td>\n",
       "      <td>Kakkanad, Ernakulam</td>\n",
       "      <td>Homeopath</td>\n",
       "      <td>100% 16 Feedback Kakkanad, Ernakulam</td>\n",
       "      <td>100</td>\n",
       "      <td>Ernakulam</td>\n",
       "      <td>Kakkanad</td>\n",
       "    </tr>\n",
       "    <tr>\n",
       "      <th>1</th>\n",
       "      <td>BAMS, MD - Ayurveda Medicine</td>\n",
       "      <td>12 years experience</td>\n",
       "      <td>98%</td>\n",
       "      <td>Whitefield, Bangalore</td>\n",
       "      <td>Ayurveda</td>\n",
       "      <td>98% 76 Feedback Whitefield, Bangalore</td>\n",
       "      <td>350</td>\n",
       "      <td>Bangalore</td>\n",
       "      <td>Whitefield</td>\n",
       "    </tr>\n",
       "    <tr>\n",
       "      <th>2</th>\n",
       "      <td>MBBS, MS - Otorhinolaryngology</td>\n",
       "      <td>9 years experience</td>\n",
       "      <td>NaN</td>\n",
       "      <td>Mathikere - BEL, Bangalore</td>\n",
       "      <td>ENT Specialist</td>\n",
       "      <td>NaN</td>\n",
       "      <td>300</td>\n",
       "      <td>Bangalore</td>\n",
       "      <td>Mathikere - BEL</td>\n",
       "    </tr>\n",
       "    <tr>\n",
       "      <th>3</th>\n",
       "      <td>BSc - Zoology, BAMS</td>\n",
       "      <td>12 years experience</td>\n",
       "      <td>NaN</td>\n",
       "      <td>Bannerghatta Road, Bangalore</td>\n",
       "      <td>Ayurveda</td>\n",
       "      <td>Bannerghatta Road, Bangalore ₹250 Available on...</td>\n",
       "      <td>250</td>\n",
       "      <td>Bangalore</td>\n",
       "      <td>Bannerghatta Road</td>\n",
       "    </tr>\n",
       "    <tr>\n",
       "      <th>4</th>\n",
       "      <td>BAMS</td>\n",
       "      <td>20 years experience</td>\n",
       "      <td>100%</td>\n",
       "      <td>Keelkattalai, Chennai</td>\n",
       "      <td>Ayurveda</td>\n",
       "      <td>100% 4 Feedback Keelkattalai, Chennai</td>\n",
       "      <td>250</td>\n",
       "      <td>Chennai</td>\n",
       "      <td>Keelkattalai</td>\n",
       "    </tr>\n",
       "  </tbody>\n",
       "</table>\n",
       "</div>"
      ],
      "text/plain": [
       "                    Qualification           Experience Rating  \\\n",
       "0           BHMS, MD - Homeopathy  24 years experience   100%   \n",
       "1    BAMS, MD - Ayurveda Medicine  12 years experience    98%   \n",
       "2  MBBS, MS - Otorhinolaryngology   9 years experience    NaN   \n",
       "3             BSc - Zoology, BAMS  12 years experience    NaN   \n",
       "4                            BAMS  20 years experience   100%   \n",
       "\n",
       "                          Place         Profile  \\\n",
       "0           Kakkanad, Ernakulam       Homeopath   \n",
       "1         Whitefield, Bangalore        Ayurveda   \n",
       "2    Mathikere - BEL, Bangalore  ENT Specialist   \n",
       "3  Bannerghatta Road, Bangalore        Ayurveda   \n",
       "4         Keelkattalai, Chennai        Ayurveda   \n",
       "\n",
       "                                  Miscellaneous_Info  Fees       City  \\\n",
       "0               100% 16 Feedback Kakkanad, Ernakulam   100  Ernakulam   \n",
       "1              98% 76 Feedback Whitefield, Bangalore   350  Bangalore   \n",
       "2                                                NaN   300  Bangalore   \n",
       "3  Bannerghatta Road, Bangalore ₹250 Available on...   250  Bangalore   \n",
       "4              100% 4 Feedback Keelkattalai, Chennai   250    Chennai   \n",
       "\n",
       "                Area  \n",
       "0           Kakkanad  \n",
       "1         Whitefield  \n",
       "2    Mathikere - BEL  \n",
       "3  Bannerghatta Road  \n",
       "4       Keelkattalai  "
      ]
     },
     "execution_count": 8,
     "metadata": {},
     "output_type": "execute_result"
    }
   ],
   "source": [
    "# spiling the place into city and area\n",
    "df_train['City'] = df_train['Place'].str.split(', ').str[-1]\n",
    "df_train['Area'] = df_train['Place'].str.split(', ').str[0]\n",
    "\n",
    "\n",
    "df_test['City'] = df_test['Place'].str.split(', ').str[-1]\n",
    "df_test['Area'] = df_test['Place'].str.split(', ').str[0]\n",
    "\n",
    "df_train.head()"
   ]
  },
  {
   "cell_type": "code",
   "execution_count": 9,
   "metadata": {},
   "outputs": [
    {
     "data": {
      "text/plain": [
       "City\n",
       "Bangalore             1258\n",
       "Chennai                855\n",
       "Coimbatore             228\n",
       "Delhi                 1185\n",
       "Ernakulam              153\n",
       "Hyderabad              951\n",
       "Mumbai                1219\n",
       "Thiruvananthapuram      86\n",
       "e                        1\n",
       "Name: Qualification, dtype: int64"
      ]
     },
     "execution_count": 9,
     "metadata": {},
     "output_type": "execute_result"
    }
   ],
   "source": [
    "count = df_train.groupby(['City']).count()\n",
    "count.Qualification"
   ]
  },
  {
   "cell_type": "code",
   "execution_count": 10,
   "metadata": {},
   "outputs": [
    {
     "data": {
      "text/plain": [
       "Int64Index([3980], dtype='int64')"
      ]
     },
     "execution_count": 10,
     "metadata": {},
     "output_type": "execute_result"
    }
   ],
   "source": [
    "val = df_train[df_train['City'] == 'e'].index\n",
    "val"
   ]
  },
  {
   "cell_type": "code",
   "execution_count": 11,
   "metadata": {},
   "outputs": [],
   "source": [
    "# droping e from city columns\n",
    "df_train = df_train.drop([3980])"
   ]
  },
  {
   "cell_type": "code",
   "execution_count": 12,
   "metadata": {},
   "outputs": [],
   "source": [
    "# taking exprience as in number only \n",
    "df_train['Experience'] = df_train['Experience'].apply(lambda x : re.findall(r'^\\d\\d?', x)[0]).astype(int)\n",
    "\n",
    "df_test['Experience'] = df_test['Experience'].apply(lambda x : re.findall(r'^\\d\\d?', x)[0]).astype(int)"
   ]
  },
  {
   "cell_type": "code",
   "execution_count": 13,
   "metadata": {},
   "outputs": [
    {
     "data": {
      "text/plain": [
       "<bound method Series.count of 0       100%\n",
       "1        98%\n",
       "2        NaN\n",
       "3        NaN\n",
       "4       100%\n",
       "        ... \n",
       "5956     98%\n",
       "5957     NaN\n",
       "5958     97%\n",
       "5959     90%\n",
       "5960    100%\n",
       "Name: Rating, Length: 5960, dtype: object>"
      ]
     },
     "execution_count": 13,
     "metadata": {},
     "output_type": "execute_result"
    }
   ],
   "source": [
    "df_train['Rating'].count"
   ]
  },
  {
   "cell_type": "code",
   "execution_count": 14,
   "metadata": {},
   "outputs": [
    {
     "data": {
      "text/plain": [
       "100%    684\n",
       "98%     290\n",
       "99%     259\n",
       "97%     241\n",
       "96%     220\n",
       "95%     178\n",
       "94%     115\n",
       "93%     109\n",
       "92%      66\n",
       "90%      66\n",
       "91%      60\n",
       "89%      42\n",
       "88%      41\n",
       "85%      27\n",
       "82%      23\n",
       "83%      21\n",
       "86%      21\n",
       "80%      19\n",
       "77%      16\n",
       "87%      14\n",
       "84%      13\n",
       "79%      13\n",
       "81%      12\n",
       "67%      12\n",
       "76%       9\n",
       "71%       9\n",
       "73%       8\n",
       "75%       8\n",
       "74%       7\n",
       "60%       7\n",
       "78%       6\n",
       "56%       5\n",
       "68%       5\n",
       "70%       4\n",
       "69%       4\n",
       "57%       3\n",
       "72%       3\n",
       "33%       2\n",
       "62%       2\n",
       "64%       2\n",
       "55%       2\n",
       "63%       2\n",
       "45%       1\n",
       "53%       1\n",
       "36%       1\n",
       "65%       1\n",
       "48%       1\n",
       "58%       1\n",
       "40%       1\n",
       "47%       1\n",
       "7%        1\n",
       "Name: Rating, dtype: int64"
      ]
     },
     "execution_count": 14,
     "metadata": {},
     "output_type": "execute_result"
    }
   ],
   "source": [
    "df_train['Rating'].value_counts()"
   ]
  },
  {
   "cell_type": "code",
   "execution_count": null,
   "metadata": {},
   "outputs": [],
   "source": []
  },
  {
   "cell_type": "code",
   "execution_count": 15,
   "metadata": {},
   "outputs": [
    {
     "data": {
      "text/html": [
       "<div>\n",
       "<style scoped>\n",
       "    .dataframe tbody tr th:only-of-type {\n",
       "        vertical-align: middle;\n",
       "    }\n",
       "\n",
       "    .dataframe tbody tr th {\n",
       "        vertical-align: top;\n",
       "    }\n",
       "\n",
       "    .dataframe thead th {\n",
       "        text-align: right;\n",
       "    }\n",
       "</style>\n",
       "<table border=\"1\" class=\"dataframe\">\n",
       "  <thead>\n",
       "    <tr style=\"text-align: right;\">\n",
       "      <th></th>\n",
       "      <th>Qualification</th>\n",
       "      <th>Experience</th>\n",
       "      <th>Rating</th>\n",
       "      <th>Place</th>\n",
       "      <th>Profile</th>\n",
       "      <th>Miscellaneous_Info</th>\n",
       "      <th>Fees</th>\n",
       "      <th>City</th>\n",
       "      <th>Area</th>\n",
       "    </tr>\n",
       "  </thead>\n",
       "  <tbody>\n",
       "    <tr>\n",
       "      <th>0</th>\n",
       "      <td>BHMS, MD - Homeopathy</td>\n",
       "      <td>24</td>\n",
       "      <td>100.0</td>\n",
       "      <td>Kakkanad, Ernakulam</td>\n",
       "      <td>Homeopath</td>\n",
       "      <td>100% 16 Feedback Kakkanad, Ernakulam</td>\n",
       "      <td>100</td>\n",
       "      <td>Ernakulam</td>\n",
       "      <td>Kakkanad</td>\n",
       "    </tr>\n",
       "    <tr>\n",
       "      <th>1</th>\n",
       "      <td>BAMS, MD - Ayurveda Medicine</td>\n",
       "      <td>12</td>\n",
       "      <td>98.0</td>\n",
       "      <td>Whitefield, Bangalore</td>\n",
       "      <td>Ayurveda</td>\n",
       "      <td>98% 76 Feedback Whitefield, Bangalore</td>\n",
       "      <td>350</td>\n",
       "      <td>Bangalore</td>\n",
       "      <td>Whitefield</td>\n",
       "    </tr>\n",
       "    <tr>\n",
       "      <th>2</th>\n",
       "      <td>MBBS, MS - Otorhinolaryngology</td>\n",
       "      <td>9</td>\n",
       "      <td>100.0</td>\n",
       "      <td>Mathikere - BEL, Bangalore</td>\n",
       "      <td>ENT Specialist</td>\n",
       "      <td>NaN</td>\n",
       "      <td>300</td>\n",
       "      <td>Bangalore</td>\n",
       "      <td>Mathikere - BEL</td>\n",
       "    </tr>\n",
       "    <tr>\n",
       "      <th>3</th>\n",
       "      <td>BSc - Zoology, BAMS</td>\n",
       "      <td>12</td>\n",
       "      <td>100.0</td>\n",
       "      <td>Bannerghatta Road, Bangalore</td>\n",
       "      <td>Ayurveda</td>\n",
       "      <td>Bannerghatta Road, Bangalore ₹250 Available on...</td>\n",
       "      <td>250</td>\n",
       "      <td>Bangalore</td>\n",
       "      <td>Bannerghatta Road</td>\n",
       "    </tr>\n",
       "    <tr>\n",
       "      <th>4</th>\n",
       "      <td>BAMS</td>\n",
       "      <td>20</td>\n",
       "      <td>100.0</td>\n",
       "      <td>Keelkattalai, Chennai</td>\n",
       "      <td>Ayurveda</td>\n",
       "      <td>100% 4 Feedback Keelkattalai, Chennai</td>\n",
       "      <td>250</td>\n",
       "      <td>Chennai</td>\n",
       "      <td>Keelkattalai</td>\n",
       "    </tr>\n",
       "  </tbody>\n",
       "</table>\n",
       "</div>"
      ],
      "text/plain": [
       "                    Qualification  Experience  Rating  \\\n",
       "0           BHMS, MD - Homeopathy          24   100.0   \n",
       "1    BAMS, MD - Ayurveda Medicine          12    98.0   \n",
       "2  MBBS, MS - Otorhinolaryngology           9   100.0   \n",
       "3             BSc - Zoology, BAMS          12   100.0   \n",
       "4                            BAMS          20   100.0   \n",
       "\n",
       "                          Place         Profile  \\\n",
       "0           Kakkanad, Ernakulam       Homeopath   \n",
       "1         Whitefield, Bangalore        Ayurveda   \n",
       "2    Mathikere - BEL, Bangalore  ENT Specialist   \n",
       "3  Bannerghatta Road, Bangalore        Ayurveda   \n",
       "4         Keelkattalai, Chennai        Ayurveda   \n",
       "\n",
       "                                  Miscellaneous_Info  Fees       City  \\\n",
       "0               100% 16 Feedback Kakkanad, Ernakulam   100  Ernakulam   \n",
       "1              98% 76 Feedback Whitefield, Bangalore   350  Bangalore   \n",
       "2                                                NaN   300  Bangalore   \n",
       "3  Bannerghatta Road, Bangalore ₹250 Available on...   250  Bangalore   \n",
       "4              100% 4 Feedback Keelkattalai, Chennai   250    Chennai   \n",
       "\n",
       "                Area  \n",
       "0           Kakkanad  \n",
       "1         Whitefield  \n",
       "2    Mathikere - BEL  \n",
       "3  Bannerghatta Road  \n",
       "4       Keelkattalai  "
      ]
     },
     "execution_count": 15,
     "metadata": {},
     "output_type": "execute_result"
    }
   ],
   "source": [
    "# removing % sign from ratings and replacing null values with mode\n",
    "df_train['Rating'].fillna(df_train['Rating'].mode()[0],inplace = True)\n",
    "df_train['Rating'] = df_train['Rating'].str[0:-1].astype(float)\n",
    "\n",
    "df_test['Rating'].fillna(df_test['Rating'].mode()[0],inplace = True)\n",
    "df_test['Rating'] = df_test['Rating'].str[0:-1].astype(float)\n",
    "\n",
    "df_train.head()"
   ]
  },
  {
   "cell_type": "code",
   "execution_count": 16,
   "metadata": {},
   "outputs": [
    {
     "data": {
      "text/plain": [
       "array(['Homeopath', 'Ayurveda', 'ENT Specialist', 'Dentist',\n",
       "       'General Medicine', 'Dermatologists'], dtype=object)"
      ]
     },
     "execution_count": 16,
     "metadata": {},
     "output_type": "execute_result"
    }
   ],
   "source": [
    "df_train['Profile'].unique()"
   ]
  },
  {
   "cell_type": "code",
   "execution_count": 17,
   "metadata": {},
   "outputs": [],
   "source": [
    "# droping the unecessary columns\n",
    "df_train.drop(['Miscellaneous_Info','Area','Place'],axis=1,inplace=True)   \n",
    "df_test.drop(['Miscellaneous_Info','Area','Place'],axis=1,inplace=True)   \n"
   ]
  },
  {
   "cell_type": "code",
   "execution_count": 18,
   "metadata": {},
   "outputs": [
    {
     "data": {
      "text/html": [
       "<div>\n",
       "<style scoped>\n",
       "    .dataframe tbody tr th:only-of-type {\n",
       "        vertical-align: middle;\n",
       "    }\n",
       "\n",
       "    .dataframe tbody tr th {\n",
       "        vertical-align: top;\n",
       "    }\n",
       "\n",
       "    .dataframe thead th {\n",
       "        text-align: right;\n",
       "    }\n",
       "</style>\n",
       "<table border=\"1\" class=\"dataframe\">\n",
       "  <thead>\n",
       "    <tr style=\"text-align: right;\">\n",
       "      <th></th>\n",
       "      <th>Qualification</th>\n",
       "      <th>Experience</th>\n",
       "      <th>Rating</th>\n",
       "      <th>Profile</th>\n",
       "      <th>Fees</th>\n",
       "      <th>City</th>\n",
       "    </tr>\n",
       "  </thead>\n",
       "  <tbody>\n",
       "    <tr>\n",
       "      <th>0</th>\n",
       "      <td>BHMS, MD - Homeopathy</td>\n",
       "      <td>24</td>\n",
       "      <td>100.0</td>\n",
       "      <td>Homeopath</td>\n",
       "      <td>100</td>\n",
       "      <td>Ernakulam</td>\n",
       "    </tr>\n",
       "    <tr>\n",
       "      <th>1</th>\n",
       "      <td>BAMS, MD - Ayurveda Medicine</td>\n",
       "      <td>12</td>\n",
       "      <td>98.0</td>\n",
       "      <td>Ayurveda</td>\n",
       "      <td>350</td>\n",
       "      <td>Bangalore</td>\n",
       "    </tr>\n",
       "    <tr>\n",
       "      <th>2</th>\n",
       "      <td>MBBS, MS - Otorhinolaryngology</td>\n",
       "      <td>9</td>\n",
       "      <td>100.0</td>\n",
       "      <td>ENT Specialist</td>\n",
       "      <td>300</td>\n",
       "      <td>Bangalore</td>\n",
       "    </tr>\n",
       "    <tr>\n",
       "      <th>3</th>\n",
       "      <td>BSc - Zoology, BAMS</td>\n",
       "      <td>12</td>\n",
       "      <td>100.0</td>\n",
       "      <td>Ayurveda</td>\n",
       "      <td>250</td>\n",
       "      <td>Bangalore</td>\n",
       "    </tr>\n",
       "    <tr>\n",
       "      <th>4</th>\n",
       "      <td>BAMS</td>\n",
       "      <td>20</td>\n",
       "      <td>100.0</td>\n",
       "      <td>Ayurveda</td>\n",
       "      <td>250</td>\n",
       "      <td>Chennai</td>\n",
       "    </tr>\n",
       "  </tbody>\n",
       "</table>\n",
       "</div>"
      ],
      "text/plain": [
       "                    Qualification  Experience  Rating         Profile  Fees  \\\n",
       "0           BHMS, MD - Homeopathy          24   100.0       Homeopath   100   \n",
       "1    BAMS, MD - Ayurveda Medicine          12    98.0        Ayurveda   350   \n",
       "2  MBBS, MS - Otorhinolaryngology           9   100.0  ENT Specialist   300   \n",
       "3             BSc - Zoology, BAMS          12   100.0        Ayurveda   250   \n",
       "4                            BAMS          20   100.0        Ayurveda   250   \n",
       "\n",
       "        City  \n",
       "0  Ernakulam  \n",
       "1  Bangalore  \n",
       "2  Bangalore  \n",
       "3  Bangalore  \n",
       "4    Chennai  "
      ]
     },
     "execution_count": 18,
     "metadata": {},
     "output_type": "execute_result"
    }
   ],
   "source": [
    "df_train.head()"
   ]
  },
  {
   "cell_type": "code",
   "execution_count": 19,
   "metadata": {},
   "outputs": [
    {
     "data": {
      "text/html": [
       "<div>\n",
       "<style scoped>\n",
       "    .dataframe tbody tr th:only-of-type {\n",
       "        vertical-align: middle;\n",
       "    }\n",
       "\n",
       "    .dataframe tbody tr th {\n",
       "        vertical-align: top;\n",
       "    }\n",
       "\n",
       "    .dataframe thead th {\n",
       "        text-align: right;\n",
       "    }\n",
       "</style>\n",
       "<table border=\"1\" class=\"dataframe\">\n",
       "  <thead>\n",
       "    <tr style=\"text-align: right;\">\n",
       "      <th></th>\n",
       "      <th>Qualification</th>\n",
       "      <th>Experience</th>\n",
       "      <th>Rating</th>\n",
       "      <th>Profile</th>\n",
       "      <th>City</th>\n",
       "    </tr>\n",
       "  </thead>\n",
       "  <tbody>\n",
       "    <tr>\n",
       "      <th>0</th>\n",
       "      <td>MBBS</td>\n",
       "      <td>35</td>\n",
       "      <td>100.0</td>\n",
       "      <td>General Medicine</td>\n",
       "      <td>Mumbai</td>\n",
       "    </tr>\n",
       "    <tr>\n",
       "      <th>1</th>\n",
       "      <td>MBBS, Diploma in Otorhinolaryngology (DLO)</td>\n",
       "      <td>31</td>\n",
       "      <td>100.0</td>\n",
       "      <td>ENT Specialist</td>\n",
       "      <td>Hyderabad</td>\n",
       "    </tr>\n",
       "    <tr>\n",
       "      <th>2</th>\n",
       "      <td>MBBS, DDVL</td>\n",
       "      <td>40</td>\n",
       "      <td>70.0</td>\n",
       "      <td>Dermatologists</td>\n",
       "      <td>Chennai</td>\n",
       "    </tr>\n",
       "    <tr>\n",
       "      <th>3</th>\n",
       "      <td>BAMS</td>\n",
       "      <td>0</td>\n",
       "      <td>100.0</td>\n",
       "      <td>Ayurveda</td>\n",
       "      <td>Delhi</td>\n",
       "    </tr>\n",
       "    <tr>\n",
       "      <th>4</th>\n",
       "      <td>BDS, MDS - Conservative Dentistry &amp; Endodontics</td>\n",
       "      <td>16</td>\n",
       "      <td>100.0</td>\n",
       "      <td>Dentist</td>\n",
       "      <td>Bangalore</td>\n",
       "    </tr>\n",
       "  </tbody>\n",
       "</table>\n",
       "</div>"
      ],
      "text/plain": [
       "                                     Qualification  Experience  Rating  \\\n",
       "0                                             MBBS          35   100.0   \n",
       "1       MBBS, Diploma in Otorhinolaryngology (DLO)          31   100.0   \n",
       "2                                       MBBS, DDVL          40    70.0   \n",
       "3                                             BAMS           0   100.0   \n",
       "4  BDS, MDS - Conservative Dentistry & Endodontics          16   100.0   \n",
       "\n",
       "            Profile       City  \n",
       "0  General Medicine     Mumbai  \n",
       "1    ENT Specialist  Hyderabad  \n",
       "2    Dermatologists    Chennai  \n",
       "3          Ayurveda      Delhi  \n",
       "4           Dentist  Bangalore  "
      ]
     },
     "execution_count": 19,
     "metadata": {},
     "output_type": "execute_result"
    }
   ],
   "source": [
    "df_test.head()"
   ]
  },
  {
   "cell_type": "markdown",
   "metadata": {},
   "source": [
    "# EDA"
   ]
  },
  {
   "cell_type": "code",
   "execution_count": null,
   "metadata": {},
   "outputs": [],
   "source": []
  },
  {
   "cell_type": "code",
   "execution_count": null,
   "metadata": {},
   "outputs": [],
   "source": []
  },
  {
   "cell_type": "code",
   "execution_count": 20,
   "metadata": {},
   "outputs": [],
   "source": [
    "import matplotlib.pyplot as plt\n",
    "import seaborn as sns"
   ]
  },
  {
   "cell_type": "code",
   "execution_count": 21,
   "metadata": {},
   "outputs": [
    {
     "data": {
      "text/html": [
       "<div>\n",
       "<style scoped>\n",
       "    .dataframe tbody tr th:only-of-type {\n",
       "        vertical-align: middle;\n",
       "    }\n",
       "\n",
       "    .dataframe tbody tr th {\n",
       "        vertical-align: top;\n",
       "    }\n",
       "\n",
       "    .dataframe thead th {\n",
       "        text-align: right;\n",
       "    }\n",
       "</style>\n",
       "<table border=\"1\" class=\"dataframe\">\n",
       "  <thead>\n",
       "    <tr style=\"text-align: right;\">\n",
       "      <th></th>\n",
       "      <th>Qualification</th>\n",
       "      <th>Experience</th>\n",
       "      <th>Rating</th>\n",
       "      <th>Profile</th>\n",
       "      <th>Fees</th>\n",
       "      <th>City</th>\n",
       "    </tr>\n",
       "  </thead>\n",
       "  <tbody>\n",
       "    <tr>\n",
       "      <th>0</th>\n",
       "      <td>BHMS, MD - Homeopathy</td>\n",
       "      <td>24</td>\n",
       "      <td>100.0</td>\n",
       "      <td>Homeopath</td>\n",
       "      <td>100</td>\n",
       "      <td>Ernakulam</td>\n",
       "    </tr>\n",
       "    <tr>\n",
       "      <th>1</th>\n",
       "      <td>BAMS, MD - Ayurveda Medicine</td>\n",
       "      <td>12</td>\n",
       "      <td>98.0</td>\n",
       "      <td>Ayurveda</td>\n",
       "      <td>350</td>\n",
       "      <td>Bangalore</td>\n",
       "    </tr>\n",
       "    <tr>\n",
       "      <th>2</th>\n",
       "      <td>MBBS, MS - Otorhinolaryngology</td>\n",
       "      <td>9</td>\n",
       "      <td>100.0</td>\n",
       "      <td>ENT Specialist</td>\n",
       "      <td>300</td>\n",
       "      <td>Bangalore</td>\n",
       "    </tr>\n",
       "    <tr>\n",
       "      <th>3</th>\n",
       "      <td>BSc - Zoology, BAMS</td>\n",
       "      <td>12</td>\n",
       "      <td>100.0</td>\n",
       "      <td>Ayurveda</td>\n",
       "      <td>250</td>\n",
       "      <td>Bangalore</td>\n",
       "    </tr>\n",
       "    <tr>\n",
       "      <th>4</th>\n",
       "      <td>BAMS</td>\n",
       "      <td>20</td>\n",
       "      <td>100.0</td>\n",
       "      <td>Ayurveda</td>\n",
       "      <td>250</td>\n",
       "      <td>Chennai</td>\n",
       "    </tr>\n",
       "  </tbody>\n",
       "</table>\n",
       "</div>"
      ],
      "text/plain": [
       "                    Qualification  Experience  Rating         Profile  Fees  \\\n",
       "0           BHMS, MD - Homeopathy          24   100.0       Homeopath   100   \n",
       "1    BAMS, MD - Ayurveda Medicine          12    98.0        Ayurveda   350   \n",
       "2  MBBS, MS - Otorhinolaryngology           9   100.0  ENT Specialist   300   \n",
       "3             BSc - Zoology, BAMS          12   100.0        Ayurveda   250   \n",
       "4                            BAMS          20   100.0        Ayurveda   250   \n",
       "\n",
       "        City  \n",
       "0  Ernakulam  \n",
       "1  Bangalore  \n",
       "2  Bangalore  \n",
       "3  Bangalore  \n",
       "4    Chennai  "
      ]
     },
     "execution_count": 21,
     "metadata": {},
     "output_type": "execute_result"
    }
   ],
   "source": [
    "df_train.head()"
   ]
  },
  {
   "cell_type": "code",
   "execution_count": null,
   "metadata": {},
   "outputs": [],
   "source": []
  },
  {
   "cell_type": "code",
   "execution_count": 22,
   "metadata": {},
   "outputs": [
    {
     "data": {
      "text/plain": [
       "<AxesSubplot:xlabel='Profile', ylabel='count'>"
      ]
     },
     "execution_count": 22,
     "metadata": {},
     "output_type": "execute_result"
    },
    {
     "data": {
      "image/png": "[encoded data removed]",
      "text/plain": [
       "<Figure size 1440x360 with 1 Axes>"
      ]
     },
     "metadata": {
      "needs_background": "light"
     },
     "output_type": "display_data"
    }
   ],
   "source": [
    "plt.figure(figsize=(20,5))\n",
    "sns.countplot(x='Profile', data=df_train)\n"
   ]
  },
  {
   "cell_type": "markdown",
   "metadata": {},
   "source": [
    "- Most of Doctors we have available are Dentists \n",
    "- After that General Medicine and Dermatologists are higher in Profile"
   ]
  },
  {
   "cell_type": "code",
   "execution_count": 23,
   "metadata": {
    "scrolled": false
   },
   "outputs": [
    {
     "data": {
      "text/plain": [
       "<AxesSubplot:xlabel='Fees', ylabel='count'>"
      ]
     },
     "execution_count": 23,
     "metadata": {},
     "output_type": "execute_result"
    },
    {
     "data": {
      "image/png": "[encoded data removed]",
      "text/plain": [
       "<Figure size 1440x360 with 1 Axes>"
      ]
     },
     "metadata": {
      "needs_background": "light"
     },
     "output_type": "display_data"
    }
   ],
   "source": [
    "plt.figure(figsize=(20,5))\n",
    "sns.countplot(x='Fees', data=df_train)\n"
   ]
  },
  {
   "cell_type": "markdown",
   "metadata": {},
   "source": [
    "- Most of commos fees we see here- 100, 200, 300, 500\n",
    "- most of Doctors are charging 100 rs"
   ]
  },
  {
   "cell_type": "code",
   "execution_count": 24,
   "metadata": {},
   "outputs": [
    {
     "data": {
      "image/png": "[encoded data removed]",
      "text/plain": [
       "<Figure size 1440x360 with 1 Axes>"
      ]
     },
     "metadata": {
      "needs_background": "light"
     },
     "output_type": "display_data"
    }
   ],
   "source": [
    "plt.figure(figsize=(20,5))\n",
    "sns.countplot(x='Experience', data=df_train)\n",
    "plt.title(\"Doctor's Experience \")\n",
    "plt.xticks()\n",
    "plt.show()"
   ]
  },
  {
   "cell_type": "markdown",
   "metadata": {},
   "source": [
    "- Mostly Doctors we in Experience between 5 to 22 Years\n",
    "- Very less no of Doctors we have more than 45 years of experience"
   ]
  },
  {
   "cell_type": "code",
   "execution_count": 25,
   "metadata": {},
   "outputs": [
    {
     "data": {
      "image/png": "[encoded data removed]",
      "text/plain": [
       "<Figure size 1440x360 with 1 Axes>"
      ]
     },
     "metadata": {
      "needs_background": "light"
     },
     "output_type": "display_data"
    }
   ],
   "source": [
    "plt.figure(figsize=(20,5))\n",
    "sns.countplot(x='Rating', data=df_train)\n",
    "plt.title(\"Doctor ratings\")\n",
    "plt.show()"
   ]
  },
  {
   "cell_type": "markdown",
   "metadata": {},
   "source": [
    "- After replacing null values with mode most of the values assign to 100% \n",
    "- means most of the doctors rating are 100%"
   ]
  },
  {
   "cell_type": "code",
   "execution_count": 26,
   "metadata": {},
   "outputs": [
    {
     "data": {
      "image/png": "[encoded data removed]",
      "text/plain": [
       "<Figure size 576x360 with 1 Axes>"
      ]
     },
     "metadata": {
      "needs_background": "light"
     },
     "output_type": "display_data"
    }
   ],
   "source": [
    "plt.figure(figsize=(8,5))\n",
    "sns.barplot(x='City',y='Fees', data=df_train)\n",
    "plt.title(\"Doctor Consultant Fees with City\")\n",
    "plt.xticks(rotation=45)\n",
    "plt.show()"
   ]
  },
  {
   "cell_type": "markdown",
   "metadata": {},
   "source": [
    "- There is Highest Doctor fee in Delhi City\n",
    "- After that Banglore, Hyderabad, Mumbai and Chennai are the most expensive cities\n",
    "- Emakulam, Coimbatore and Thiruvananthapuram are the most lower in fee"
   ]
  },
  {
   "cell_type": "code",
   "execution_count": 27,
   "metadata": {},
   "outputs": [
    {
     "data": {
      "image/png": "[encoded data removed]",
      "text/plain": [
       "<Figure size 576x360 with 1 Axes>"
      ]
     },
     "metadata": {
      "needs_background": "light"
     },
     "output_type": "display_data"
    }
   ],
   "source": [
    "plt.figure(figsize=(8,5))\n",
    "sns.barplot(x='Profile',y='Fees',data=df_train)\n",
    "plt.title(\"Doctor Consultant Fees with Profile\")\n",
    "plt.xticks(rotation=45)\n",
    "plt.show()"
   ]
  },
  {
   "cell_type": "markdown",
   "metadata": {},
   "source": [
    "- We can see here Highest fee is paid to Dermatologists and ENT Specialist\n",
    "- Homepath and General Medicine are in middle with fee\n",
    "- Denists and Ayurveda are on lower side with fee"
   ]
  },
  {
   "cell_type": "markdown",
   "metadata": {},
   "source": [
    "## Label Encoding"
   ]
  },
  {
   "cell_type": "code",
   "execution_count": 28,
   "metadata": {},
   "outputs": [],
   "source": [
    "#Encoding Qualification,City and Profile Column into Numeric Values in df_train\n",
    "import sklearn\n",
    "from sklearn.preprocessing import LabelEncoder\n",
    "le=LabelEncoder()\n",
    "list1=['City','Profile','Qualification']\n",
    "for val in list1:\n",
    "    df_train[val]=le.fit_transform(df_train[val].astype(str))"
   ]
  },
  {
   "cell_type": "code",
   "execution_count": 29,
   "metadata": {},
   "outputs": [
    {
     "data": {
      "text/html": [
       "<div>\n",
       "<style scoped>\n",
       "    .dataframe tbody tr th:only-of-type {\n",
       "        vertical-align: middle;\n",
       "    }\n",
       "\n",
       "    .dataframe tbody tr th {\n",
       "        vertical-align: top;\n",
       "    }\n",
       "\n",
       "    .dataframe thead th {\n",
       "        text-align: right;\n",
       "    }\n",
       "</style>\n",
       "<table border=\"1\" class=\"dataframe\">\n",
       "  <thead>\n",
       "    <tr style=\"text-align: right;\">\n",
       "      <th></th>\n",
       "      <th>Qualification</th>\n",
       "      <th>Experience</th>\n",
       "      <th>Rating</th>\n",
       "      <th>Profile</th>\n",
       "      <th>Fees</th>\n",
       "      <th>City</th>\n",
       "    </tr>\n",
       "  </thead>\n",
       "  <tbody>\n",
       "    <tr>\n",
       "      <th>0</th>\n",
       "      <td>401</td>\n",
       "      <td>24</td>\n",
       "      <td>100.0</td>\n",
       "      <td>5</td>\n",
       "      <td>100</td>\n",
       "      <td>4</td>\n",
       "    </tr>\n",
       "    <tr>\n",
       "      <th>1</th>\n",
       "      <td>73</td>\n",
       "      <td>12</td>\n",
       "      <td>98.0</td>\n",
       "      <td>0</td>\n",
       "      <td>350</td>\n",
       "      <td>0</td>\n",
       "    </tr>\n",
       "    <tr>\n",
       "      <th>2</th>\n",
       "      <td>1135</td>\n",
       "      <td>9</td>\n",
       "      <td>100.0</td>\n",
       "      <td>3</td>\n",
       "      <td>300</td>\n",
       "      <td>0</td>\n",
       "    </tr>\n",
       "    <tr>\n",
       "      <th>3</th>\n",
       "      <td>464</td>\n",
       "      <td>12</td>\n",
       "      <td>100.0</td>\n",
       "      <td>0</td>\n",
       "      <td>250</td>\n",
       "      <td>0</td>\n",
       "    </tr>\n",
       "    <tr>\n",
       "      <th>4</th>\n",
       "      <td>10</td>\n",
       "      <td>20</td>\n",
       "      <td>100.0</td>\n",
       "      <td>0</td>\n",
       "      <td>250</td>\n",
       "      <td>1</td>\n",
       "    </tr>\n",
       "  </tbody>\n",
       "</table>\n",
       "</div>"
      ],
      "text/plain": [
       "   Qualification  Experience  Rating  Profile  Fees  City\n",
       "0            401          24   100.0        5   100     4\n",
       "1             73          12    98.0        0   350     0\n",
       "2           1135           9   100.0        3   300     0\n",
       "3            464          12   100.0        0   250     0\n",
       "4             10          20   100.0        0   250     1"
      ]
     },
     "execution_count": 29,
     "metadata": {},
     "output_type": "execute_result"
    }
   ],
   "source": [
    "df_train.head()"
   ]
  },
  {
   "cell_type": "code",
   "execution_count": 30,
   "metadata": {},
   "outputs": [],
   "source": [
    "#Encoding Qualification,City and Profile Column into Numeric Values in df_test\n",
    "import sklearn\n",
    "from sklearn.preprocessing import LabelEncoder\n",
    "le=LabelEncoder()\n",
    "list1=['City','Profile','Qualification']\n",
    "for val in list1:\n",
    "    df_test[val]=le.fit_transform(df_test[val].astype(str))"
   ]
  },
  {
   "cell_type": "code",
   "execution_count": 31,
   "metadata": {},
   "outputs": [
    {
     "data": {
      "text/html": [
       "<div>\n",
       "<style scoped>\n",
       "    .dataframe tbody tr th:only-of-type {\n",
       "        vertical-align: middle;\n",
       "    }\n",
       "\n",
       "    .dataframe tbody tr th {\n",
       "        vertical-align: top;\n",
       "    }\n",
       "\n",
       "    .dataframe thead th {\n",
       "        text-align: right;\n",
       "    }\n",
       "</style>\n",
       "<table border=\"1\" class=\"dataframe\">\n",
       "  <thead>\n",
       "    <tr style=\"text-align: right;\">\n",
       "      <th></th>\n",
       "      <th>Qualification</th>\n",
       "      <th>Experience</th>\n",
       "      <th>Rating</th>\n",
       "      <th>Profile</th>\n",
       "      <th>City</th>\n",
       "    </tr>\n",
       "  </thead>\n",
       "  <tbody>\n",
       "    <tr>\n",
       "      <th>0</th>\n",
       "      <td>241</td>\n",
       "      <td>35</td>\n",
       "      <td>100.0</td>\n",
       "      <td>4</td>\n",
       "      <td>6</td>\n",
       "    </tr>\n",
       "    <tr>\n",
       "      <th>1</th>\n",
       "      <td>340</td>\n",
       "      <td>31</td>\n",
       "      <td>100.0</td>\n",
       "      <td>3</td>\n",
       "      <td>5</td>\n",
       "    </tr>\n",
       "    <tr>\n",
       "      <th>2</th>\n",
       "      <td>258</td>\n",
       "      <td>40</td>\n",
       "      <td>70.0</td>\n",
       "      <td>2</td>\n",
       "      <td>1</td>\n",
       "    </tr>\n",
       "    <tr>\n",
       "      <th>3</th>\n",
       "      <td>6</td>\n",
       "      <td>0</td>\n",
       "      <td>100.0</td>\n",
       "      <td>0</td>\n",
       "      <td>3</td>\n",
       "    </tr>\n",
       "    <tr>\n",
       "      <th>4</th>\n",
       "      <td>79</td>\n",
       "      <td>16</td>\n",
       "      <td>100.0</td>\n",
       "      <td>1</td>\n",
       "      <td>0</td>\n",
       "    </tr>\n",
       "  </tbody>\n",
       "</table>\n",
       "</div>"
      ],
      "text/plain": [
       "   Qualification  Experience  Rating  Profile  City\n",
       "0            241          35   100.0        4     6\n",
       "1            340          31   100.0        3     5\n",
       "2            258          40    70.0        2     1\n",
       "3              6           0   100.0        0     3\n",
       "4             79          16   100.0        1     0"
      ]
     },
     "execution_count": 31,
     "metadata": {},
     "output_type": "execute_result"
    }
   ],
   "source": [
    "df_test.head()"
   ]
  },
  {
   "cell_type": "markdown",
   "metadata": {},
   "source": [
    "### Correlation"
   ]
  },
  {
   "cell_type": "code",
   "execution_count": 32,
   "metadata": {},
   "outputs": [
    {
     "data": {
      "text/plain": [
       "<AxesSubplot:>"
      ]
     },
     "execution_count": 32,
     "metadata": {},
     "output_type": "execute_result"
    },
    {
     "data": {
      "image/png": "[encoded data removed]",
      "text/plain": [
       "<Figure size 432x288 with 2 Axes>"
      ]
     },
     "metadata": {
      "needs_background": "light"
     },
     "output_type": "display_data"
    }
   ],
   "source": [
    "sns.heatmap(df_train.corr(),annot= True)"
   ]
  },
  {
   "cell_type": "markdown",
   "metadata": {},
   "source": [
    "- Profile is positively correlated with Fees whereas Rating is negatively correlated."
   ]
  },
  {
   "cell_type": "code",
   "execution_count": null,
   "metadata": {},
   "outputs": [],
   "source": []
  },
  {
   "cell_type": "markdown",
   "metadata": {},
   "source": [
    "## checking for skewness\n"
   ]
  },
  {
   "cell_type": "code",
   "execution_count": 33,
   "metadata": {},
   "outputs": [
    {
     "data": {
      "text/plain": [
       "Qualification    0.239447\n",
       "Experience       0.991306\n",
       "Rating          -4.701254\n",
       "Profile          0.108488\n",
       "Fees             0.751676\n",
       "City             0.010106\n",
       "dtype: float64"
      ]
     },
     "execution_count": 33,
     "metadata": {},
     "output_type": "execute_result"
    },
    {
     "data": {
      "image/png": "[encoded data removed]",
      "text/plain": [
       "<Figure size 1080x576 with 6 Axes>"
      ]
     },
     "metadata": {
      "needs_background": "light"
     },
     "output_type": "display_data"
    }
   ],
   "source": [
    "plt.figure(figsize=(15,8))\n",
    "for i in enumerate(df_train):\n",
    "    plt.subplot(5,3,i[0]+1)\n",
    "    sns.distplot(df_train[i[1]],color='r')    \n",
    "\n",
    "df_train.skew()"
   ]
  },
  {
   "cell_type": "markdown",
   "metadata": {},
   "source": [
    "we can see here most of the columns are skewed \n",
    "##### will only deal with numercal columns \n",
    "- Rating"
   ]
  },
  {
   "cell_type": "code",
   "execution_count": 34,
   "metadata": {},
   "outputs": [],
   "source": [
    "from sklearn.preprocessing import power_transform\n",
    "\n",
    "df_train[['Rating']]=power_transform(df_train[['Rating']],method='yeo-johnson')"
   ]
  },
  {
   "cell_type": "markdown",
   "metadata": {},
   "source": [
    "## Outliers Handling"
   ]
  },
  {
   "cell_type": "code",
   "execution_count": 35,
   "metadata": {},
   "outputs": [
    {
     "data": {
      "image/png": "[encoded data removed]",
      "text/plain": [
       "<Figure size 1296x720 with 6 Axes>"
      ]
     },
     "metadata": {
      "needs_background": "light"
     },
     "output_type": "display_data"
    }
   ],
   "source": [
    "plt.figure(figsize=(18,10))\n",
    "for o in enumerate(df_train):\n",
    "    plt.subplot(9,4,o[0]+1)\n",
    "    sns.boxplot(df_train[o[1]])"
   ]
  },
  {
   "cell_type": "code",
   "execution_count": 36,
   "metadata": {},
   "outputs": [
    {
     "data": {
      "text/plain": [
       "{'whiskers': [<matplotlib.lines.Line2D at 0x1bef387fbb0>,\n",
       "  <matplotlib.lines.Line2D at 0x1bef387ff10>],\n",
       " 'caps': [<matplotlib.lines.Line2D at 0x1bef388d2b0>,\n",
       "  <matplotlib.lines.Line2D at 0x1bef388d610>],\n",
       " 'boxes': [<matplotlib.lines.Line2D at 0x1bef387f850>],\n",
       " 'medians': [<matplotlib.lines.Line2D at 0x1bef388d970>],\n",
       " 'fliers': [<matplotlib.lines.Line2D at 0x1bef388dcd0>],\n",
       " 'means': []}"
      ]
     },
     "execution_count": 36,
     "metadata": {},
     "output_type": "execute_result"
    },
    {
     "data": {
      "image/png": "[encoded data removed]",
      "text/plain": [
       "<Figure size 432x288 with 1 Axes>"
      ]
     },
     "metadata": {
      "needs_background": "light"
     },
     "output_type": "display_data"
    }
   ],
   "source": [
    "# checking for numerical column\n",
    "plt.boxplot(df_train['Rating'])"
   ]
  },
  {
   "cell_type": "markdown",
   "metadata": {},
   "source": [
    "- Only some of columns seems having outliers after skewness removed ."
   ]
  },
  {
   "cell_type": "markdown",
   "metadata": {},
   "source": [
    "# outliers removal\n",
    "### zscore"
   ]
  },
  {
   "cell_type": "code",
   "execution_count": 37,
   "metadata": {},
   "outputs": [
    {
     "name": "stdout",
     "output_type": "stream",
     "text": [
      "(array([ 105,  110,  183,  275,  293,  325,  372,  901,  987, 1009, 1111,\n",
      "       1314, 1631, 1860, 1981, 2023, 2062, 2165, 2202, 2252, 2262, 2281,\n",
      "       2393, 2428, 2522, 2623, 2631, 2708, 3180, 3365, 3478, 3493, 3608,\n",
      "       3942, 3960, 4039, 4166, 4211, 4256, 4343, 4580, 4729, 4762, 4774,\n",
      "       4834, 5194, 5249, 5264, 5276, 5310, 5409, 5421, 5586, 5636, 5663,\n",
      "       5719, 5806, 5941], dtype=int64), array([1, 1, 1, 4, 4, 1, 1, 1, 4, 1, 1, 4, 4, 1, 1, 1, 1, 4, 1, 4, 1, 1,\n",
      "       4, 4, 4, 4, 1, 4, 1, 4, 1, 1, 1, 1, 1, 4, 1, 1, 1, 1, 4, 4, 1, 1,\n",
      "       4, 4, 4, 1, 1, 4, 1, 1, 1, 1, 1, 1, 1, 1], dtype=int64))\n"
     ]
    }
   ],
   "source": [
    "from scipy.stats import zscore\n",
    "\n",
    "z=np.abs(zscore(df_train))\n",
    "\n",
    "print(np.where(z>3))"
   ]
  },
  {
   "cell_type": "code",
   "execution_count": 38,
   "metadata": {},
   "outputs": [
    {
     "name": "stdout",
     "output_type": "stream",
     "text": [
      "with outliers:: (5960, 6)\n",
      "After removing outliers:: (5902, 6)\n"
     ]
    }
   ],
   "source": [
    "df_1=df_train[(z<3).all(axis=1)]\n",
    "print(\"with outliers::\",df_train.shape)\n",
    "print(\"After removing outliers::\",df_1.shape)"
   ]
  },
  {
   "cell_type": "markdown",
   "metadata": {},
   "source": [
    "- Zscore removing all rows from data"
   ]
  },
  {
   "cell_type": "markdown",
   "metadata": {},
   "source": [
    "## IQR"
   ]
  },
  {
   "cell_type": "code",
   "execution_count": 39,
   "metadata": {},
   "outputs": [
    {
     "data": {
      "text/plain": [
       "191.0"
      ]
     },
     "execution_count": 39,
     "metadata": {},
     "output_type": "execute_result"
    }
   ],
   "source": [
    "\n",
    "from scipy import stats \n",
    "IQR = stats.iqr(df_train) \n",
    "IQR "
   ]
  },
  {
   "cell_type": "code",
   "execution_count": 40,
   "metadata": {},
   "outputs": [
    {
     "name": "stdout",
     "output_type": "stream",
     "text": [
      "(5320, 6)\n"
     ]
    }
   ],
   "source": [
    "Q1 = df_train.quantile(0.25)\n",
    "Q3 = df_train.quantile(0.75)\n",
    "df_out = df_train[~((df_train < (Q1 - 1.5 * IQR)) |(df_train > (Q3 + 1.5 * IQR))).any(axis=1)]\n",
    "print(df_out.shape)"
   ]
  },
  {
   "cell_type": "markdown",
   "metadata": {},
   "source": [
    "#### We can notice using IQR method for outliers removal there is huge data loss so considering ZSCORE METHOD "
   ]
  },
  {
   "cell_type": "code",
   "execution_count": 41,
   "metadata": {},
   "outputs": [],
   "source": [
    "df_train=df_1"
   ]
  },
  {
   "cell_type": "markdown",
   "metadata": {},
   "source": [
    "# Dividing data into X and Y"
   ]
  },
  {
   "cell_type": "code",
   "execution_count": 42,
   "metadata": {},
   "outputs": [],
   "source": [
    "x=df_train.drop(['Fees'],axis=1)\n",
    "y=df_train['Fees']\n"
   ]
  },
  {
   "cell_type": "code",
   "execution_count": 43,
   "metadata": {},
   "outputs": [
    {
     "name": "stdout",
     "output_type": "stream",
     "text": [
      "(5902, 5)\n",
      "(5902,)\n"
     ]
    }
   ],
   "source": [
    "print(x.shape)\n",
    "print(y.shape)"
   ]
  },
  {
   "cell_type": "markdown",
   "metadata": {},
   "source": [
    "#### SCALLING THE DATA"
   ]
  },
  {
   "cell_type": "code",
   "execution_count": 44,
   "metadata": {},
   "outputs": [],
   "source": [
    "from sklearn.preprocessing import MinMaxScaler\n",
    "\n",
    "sc=MinMaxScaler()\n",
    "x=sc.fit_transform(x)"
   ]
  },
  {
   "cell_type": "code",
   "execution_count": 45,
   "metadata": {},
   "outputs": [
    {
     "data": {
      "text/html": [
       "<div>\n",
       "<style scoped>\n",
       "    .dataframe tbody tr th:only-of-type {\n",
       "        vertical-align: middle;\n",
       "    }\n",
       "\n",
       "    .dataframe tbody tr th {\n",
       "        vertical-align: top;\n",
       "    }\n",
       "\n",
       "    .dataframe thead th {\n",
       "        text-align: right;\n",
       "    }\n",
       "</style>\n",
       "<table border=\"1\" class=\"dataframe\">\n",
       "  <thead>\n",
       "    <tr style=\"text-align: right;\">\n",
       "      <th></th>\n",
       "      <th>0</th>\n",
       "      <th>1</th>\n",
       "      <th>2</th>\n",
       "      <th>3</th>\n",
       "      <th>4</th>\n",
       "    </tr>\n",
       "  </thead>\n",
       "  <tbody>\n",
       "    <tr>\n",
       "      <th>count</th>\n",
       "      <td>5902.000000</td>\n",
       "      <td>5902.000000</td>\n",
       "      <td>5902.000000</td>\n",
       "      <td>5902.000000</td>\n",
       "      <td>5902.000000</td>\n",
       "    </tr>\n",
       "    <tr>\n",
       "      <th>mean</th>\n",
       "      <td>0.419544</td>\n",
       "      <td>0.340932</td>\n",
       "      <td>0.775054</td>\n",
       "      <td>0.486513</td>\n",
       "      <td>0.384425</td>\n",
       "    </tr>\n",
       "    <tr>\n",
       "      <th>std</th>\n",
       "      <td>0.292143</td>\n",
       "      <td>0.215095</td>\n",
       "      <td>0.350252</td>\n",
       "      <td>0.331835</td>\n",
       "      <td>0.289222</td>\n",
       "    </tr>\n",
       "    <tr>\n",
       "      <th>min</th>\n",
       "      <td>0.000000</td>\n",
       "      <td>0.000000</td>\n",
       "      <td>0.000000</td>\n",
       "      <td>0.000000</td>\n",
       "      <td>0.000000</td>\n",
       "    </tr>\n",
       "    <tr>\n",
       "      <th>25%</th>\n",
       "      <td>0.154334</td>\n",
       "      <td>0.180000</td>\n",
       "      <td>0.574148</td>\n",
       "      <td>0.200000</td>\n",
       "      <td>0.125000</td>\n",
       "    </tr>\n",
       "    <tr>\n",
       "      <th>50%</th>\n",
       "      <td>0.420014</td>\n",
       "      <td>0.280000</td>\n",
       "      <td>1.000000</td>\n",
       "      <td>0.400000</td>\n",
       "      <td>0.375000</td>\n",
       "    </tr>\n",
       "    <tr>\n",
       "      <th>75%</th>\n",
       "      <td>0.664553</td>\n",
       "      <td>0.440000</td>\n",
       "      <td>1.000000</td>\n",
       "      <td>0.800000</td>\n",
       "      <td>0.625000</td>\n",
       "    </tr>\n",
       "    <tr>\n",
       "      <th>max</th>\n",
       "      <td>1.000000</td>\n",
       "      <td>1.000000</td>\n",
       "      <td>1.000000</td>\n",
       "      <td>1.000000</td>\n",
       "      <td>1.000000</td>\n",
       "    </tr>\n",
       "  </tbody>\n",
       "</table>\n",
       "</div>"
      ],
      "text/plain": [
       "                 0            1            2            3            4\n",
       "count  5902.000000  5902.000000  5902.000000  5902.000000  5902.000000\n",
       "mean      0.419544     0.340932     0.775054     0.486513     0.384425\n",
       "std       0.292143     0.215095     0.350252     0.331835     0.289222\n",
       "min       0.000000     0.000000     0.000000     0.000000     0.000000\n",
       "25%       0.154334     0.180000     0.574148     0.200000     0.125000\n",
       "50%       0.420014     0.280000     1.000000     0.400000     0.375000\n",
       "75%       0.664553     0.440000     1.000000     0.800000     0.625000\n",
       "max       1.000000     1.000000     1.000000     1.000000     1.000000"
      ]
     },
     "execution_count": 45,
     "metadata": {},
     "output_type": "execute_result"
    }
   ],
   "source": [
    "pd.DataFrame(x).describe()"
   ]
  },
  {
   "cell_type": "code",
   "execution_count": 46,
   "metadata": {},
   "outputs": [
    {
     "data": {
      "text/plain": [
       "(5902, 5)"
      ]
     },
     "execution_count": 46,
     "metadata": {},
     "output_type": "execute_result"
    }
   ],
   "source": [
    "x.shape"
   ]
  },
  {
   "cell_type": "markdown",
   "metadata": {},
   "source": [
    " # MODEL BUILDING:"
   ]
  },
  {
   "cell_type": "markdown",
   "metadata": {},
   "source": [
    "### Linear Regression"
   ]
  },
  {
   "cell_type": "code",
   "execution_count": 47,
   "metadata": {},
   "outputs": [],
   "source": [
    "from sklearn.metrics import mean_squared_error,mean_absolute_error\n",
    "from sklearn.metrics import r2_score\n",
    "from sklearn.model_selection import train_test_split\n",
    "from sklearn.model_selection import cross_val_score\n",
    "\n"
   ]
  },
  {
   "cell_type": "markdown",
   "metadata": {},
   "source": [
    "#### CHECKING THE BEST RANDOM STATE FOR DATA SPLIT"
   ]
  },
  {
   "cell_type": "code",
   "execution_count": 71,
   "metadata": {},
   "outputs": [
    {
     "name": "stdout",
     "output_type": "stream",
     "text": [
      "At random state 0, The training accuracy is: 0.09586887432720548\n",
      "At random state 0, The test accuracy is: 0.10878526870998917\n",
      "\n",
      "\n",
      "At random state 1, The training accuracy is: 0.10205112093530455\n",
      "At random state 1, The test accuracy is: 0.08667704687151256\n",
      "\n",
      "\n",
      "At random state 2, The training accuracy is: 0.0941427482192222\n",
      "At random state 2, The test accuracy is: 0.11660793311296747\n",
      "\n",
      "\n",
      "At random state 3, The training accuracy is: 0.10404702323013504\n",
      "At random state 3, The test accuracy is: 0.07591870807102918\n",
      "\n",
      "\n",
      "At random state 4, The training accuracy is: 0.09925994139420258\n",
      "At random state 4, The test accuracy is: 0.09724431786786936\n",
      "\n",
      "\n",
      "At random state 5, The training accuracy is: 0.09950154394239408\n",
      "At random state 5, The test accuracy is: 0.0965933493661324\n",
      "\n",
      "\n",
      "At random state 6, The training accuracy is: 0.10147927606398899\n",
      "At random state 6, The test accuracy is: 0.08806310909355652\n",
      "\n",
      "\n",
      "At random state 7, The training accuracy is: 0.09928418599403477\n",
      "At random state 7, The test accuracy is: 0.09703633656159982\n",
      "\n",
      "\n",
      "At random state 8, The training accuracy is: 0.10194427659311645\n",
      "At random state 8, The test accuracy is: 0.08563222012428695\n",
      "\n",
      "\n",
      "At random state 9, The training accuracy is: 0.09698669640092439\n",
      "At random state 9, The test accuracy is: 0.1059974651592136\n",
      "\n",
      "\n",
      "At random state 10, The training accuracy is: 0.10402159609402395\n",
      "At random state 10, The test accuracy is: 0.07850729775383647\n",
      "\n",
      "\n",
      "At random state 11, The training accuracy is: 0.10098355596802577\n",
      "At random state 11, The test accuracy is: 0.09024315042991293\n",
      "\n",
      "\n",
      "At random state 12, The training accuracy is: 0.09604531960409879\n",
      "At random state 12, The test accuracy is: 0.10611556169886072\n",
      "\n",
      "\n",
      "At random state 13, The training accuracy is: 0.09354967521002355\n",
      "At random state 13, The test accuracy is: 0.11856761381340963\n",
      "\n",
      "\n",
      "At random state 14, The training accuracy is: 0.10103091948984377\n",
      "At random state 14, The test accuracy is: 0.08990892257594074\n",
      "\n",
      "\n",
      "At random state 15, The training accuracy is: 0.09720280134215198\n",
      "At random state 15, The test accuracy is: 0.1046976928649288\n",
      "\n",
      "\n",
      "At random state 16, The training accuracy is: 0.09970467890072243\n",
      "At random state 16, The test accuracy is: 0.09377219950864746\n",
      "\n",
      "\n",
      "At random state 17, The training accuracy is: 0.09735066996991071\n",
      "At random state 17, The test accuracy is: 0.10195672547707624\n",
      "\n",
      "\n",
      "At random state 18, The training accuracy is: 0.0974671891344997\n",
      "At random state 18, The test accuracy is: 0.10488729281275322\n",
      "\n",
      "\n",
      "At random state 19, The training accuracy is: 0.10098330135667444\n",
      "At random state 19, The test accuracy is: 0.09052186821893737\n",
      "\n",
      "\n",
      "At random state 20, The training accuracy is: 0.10110032438120375\n",
      "At random state 20, The test accuracy is: 0.08890425931338364\n",
      "\n",
      "\n",
      "At random state 21, The training accuracy is: 0.10321987676663802\n",
      "At random state 21, The test accuracy is: 0.08082736234530186\n",
      "\n",
      "\n",
      "At random state 22, The training accuracy is: 0.09980879669849396\n",
      "At random state 22, The test accuracy is: 0.09428427854417798\n",
      "\n",
      "\n",
      "At random state 23, The training accuracy is: 0.09894069044650511\n",
      "At random state 23, The test accuracy is: 0.0981700284702679\n",
      "\n",
      "\n",
      "At random state 24, The training accuracy is: 0.10631706115640072\n",
      "At random state 24, The test accuracy is: 0.06736125649128633\n",
      "\n",
      "\n",
      "At random state 25, The training accuracy is: 0.0964720317183253\n",
      "At random state 25, The test accuracy is: 0.10861986140383484\n",
      "\n",
      "\n",
      "At random state 26, The training accuracy is: 0.09786188467351287\n",
      "At random state 26, The test accuracy is: 0.09661268974005621\n",
      "\n",
      "\n",
      "At random state 27, The training accuracy is: 0.09463798210115448\n",
      "At random state 27, The test accuracy is: 0.11560346371399355\n",
      "\n",
      "\n",
      "At random state 28, The training accuracy is: 0.10319460748936315\n",
      "At random state 28, The test accuracy is: 0.07917439255847702\n",
      "\n",
      "\n",
      "At random state 29, The training accuracy is: 0.10042868245336878\n",
      "At random state 29, The test accuracy is: 0.0922998296566625\n",
      "\n",
      "\n",
      "At random state 30, The training accuracy is: 0.10019620453577582\n",
      "At random state 30, The test accuracy is: 0.09302545135422025\n",
      "\n",
      "\n",
      "At random state 31, The training accuracy is: 0.09468925068016576\n",
      "At random state 31, The test accuracy is: 0.11476164903466479\n",
      "\n",
      "\n",
      "At random state 32, The training accuracy is: 0.10127099311223675\n",
      "At random state 32, The test accuracy is: 0.0880239337930343\n",
      "\n",
      "\n",
      "At random state 33, The training accuracy is: 0.09767113714035902\n",
      "At random state 33, The test accuracy is: 0.1025231968705208\n",
      "\n",
      "\n",
      "At random state 34, The training accuracy is: 0.09443762151440438\n",
      "At random state 34, The test accuracy is: 0.11690869498696743\n",
      "\n",
      "\n",
      "At random state 35, The training accuracy is: 0.10134388265887517\n",
      "At random state 35, The test accuracy is: 0.08913685300435437\n",
      "\n",
      "\n",
      "At random state 36, The training accuracy is: 0.09740757817898449\n",
      "At random state 36, The test accuracy is: 0.103732032856371\n",
      "\n",
      "\n",
      "At random state 37, The training accuracy is: 0.09602344771891236\n",
      "At random state 37, The test accuracy is: 0.1102094887750007\n",
      "\n",
      "\n",
      "At random state 38, The training accuracy is: 0.10217771004818477\n",
      "At random state 38, The test accuracy is: 0.08512122265451383\n",
      "\n",
      "\n",
      "At random state 39, The training accuracy is: 0.09597376839227234\n",
      "At random state 39, The test accuracy is: 0.11077416148835084\n",
      "\n",
      "\n",
      "At random state 40, The training accuracy is: 0.10426863913582352\n",
      "At random state 40, The test accuracy is: 0.07581005437722566\n",
      "\n",
      "\n",
      "At random state 41, The training accuracy is: 0.09988739699071869\n",
      "At random state 41, The test accuracy is: 0.09515820030678557\n",
      "\n",
      "\n",
      "At random state 42, The training accuracy is: 0.09339810004619498\n",
      "At random state 42, The test accuracy is: 0.12061911901983846\n",
      "\n",
      "\n",
      "At random state 43, The training accuracy is: 0.10247275510047527\n",
      "At random state 43, The test accuracy is: 0.08047725275165185\n",
      "\n",
      "\n",
      "At random state 44, The training accuracy is: 0.1008248704596858\n",
      "At random state 44, The test accuracy is: 0.090702057177518\n",
      "\n",
      "\n",
      "At random state 45, The training accuracy is: 0.10176542016604395\n",
      "At random state 45, The test accuracy is: 0.08789887738232482\n",
      "\n",
      "\n",
      "At random state 46, The training accuracy is: 0.10000540182986617\n",
      "At random state 46, The test accuracy is: 0.09310326680420133\n",
      "\n",
      "\n",
      "At random state 47, The training accuracy is: 0.09548993641416226\n",
      "At random state 47, The test accuracy is: 0.10914198314977819\n",
      "\n",
      "\n",
      "At random state 48, The training accuracy is: 0.09272344201378668\n",
      "At random state 48, The test accuracy is: 0.12339805846107577\n",
      "\n",
      "\n",
      "At random state 49, The training accuracy is: 0.10345063682269506\n",
      "At random state 49, The test accuracy is: 0.08004577801812307\n",
      "\n",
      "\n",
      "At random state 50, The training accuracy is: 0.09747605528195136\n",
      "At random state 50, The test accuracy is: 0.1039208563210865\n",
      "\n",
      "\n",
      "At random state 51, The training accuracy is: 0.09981882345198356\n",
      "At random state 51, The test accuracy is: 0.09322775687243112\n",
      "\n",
      "\n",
      "At random state 52, The training accuracy is: 0.10718253546631229\n",
      "At random state 52, The test accuracy is: 0.06178310278340504\n",
      "\n",
      "\n",
      "At random state 53, The training accuracy is: 0.09577309805040601\n",
      "At random state 53, The test accuracy is: 0.10554269847851938\n",
      "\n",
      "\n",
      "At random state 54, The training accuracy is: 0.09955626152996178\n",
      "At random state 54, The test accuracy is: 0.0934689960205185\n",
      "\n",
      "\n",
      "At random state 55, The training accuracy is: 0.10617461711565779\n",
      "At random state 55, The test accuracy is: 0.06377957428012415\n",
      "\n",
      "\n",
      "At random state 56, The training accuracy is: 0.1079161275714341\n",
      "At random state 56, The test accuracy is: 0.06060925481674728\n",
      "\n",
      "\n",
      "At random state 57, The training accuracy is: 0.10144284487216382\n",
      "At random state 57, The test accuracy is: 0.08763416510775024\n",
      "\n",
      "\n",
      "At random state 58, The training accuracy is: 0.09851862364756181\n",
      "At random state 58, The test accuracy is: 0.10056584403292568\n",
      "\n",
      "\n",
      "At random state 59, The training accuracy is: 0.10361381967434968\n",
      "At random state 59, The test accuracy is: 0.07295786524511794\n",
      "\n",
      "\n",
      "At random state 60, The training accuracy is: 0.09424254583062408\n",
      "At random state 60, The test accuracy is: 0.11499312482007096\n",
      "\n",
      "\n",
      "At random state 61, The training accuracy is: 0.10597458997626186\n",
      "At random state 61, The test accuracy is: 0.06615534791447342\n",
      "\n",
      "\n",
      "At random state 62, The training accuracy is: 0.09947236557754213\n",
      "At random state 62, The test accuracy is: 0.09568637734008278\n",
      "\n",
      "\n",
      "At random state 63, The training accuracy is: 0.10213743264074371\n",
      "At random state 63, The test accuracy is: 0.07942435728853448\n",
      "\n",
      "\n",
      "At random state 64, The training accuracy is: 0.09879299539508213\n",
      "At random state 64, The test accuracy is: 0.09955909777842886\n",
      "\n",
      "\n",
      "At random state 65, The training accuracy is: 0.09548036335735399\n",
      "At random state 65, The test accuracy is: 0.1093070807778651\n",
      "\n",
      "\n",
      "At random state 66, The training accuracy is: 0.10384433306384\n",
      "At random state 66, The test accuracy is: 0.0782459724304373\n",
      "\n",
      "\n",
      "At random state 67, The training accuracy is: 0.09966101038356068\n",
      "At random state 67, The test accuracy is: 0.09582544137095894\n",
      "\n",
      "\n",
      "At random state 68, The training accuracy is: 0.1060200566634093\n",
      "At random state 68, The test accuracy is: 0.06832678051108032\n",
      "\n",
      "\n",
      "At random state 69, The training accuracy is: 0.09951630855887994\n",
      "At random state 69, The test accuracy is: 0.09586315916647403\n",
      "\n",
      "\n",
      "At random state 70, The training accuracy is: 0.10238466294276483\n",
      "At random state 70, The test accuracy is: 0.08423335357236972\n",
      "\n",
      "\n",
      "At random state 71, The training accuracy is: 0.10037756734412728\n",
      "At random state 71, The test accuracy is: 0.09319163418080545\n",
      "\n",
      "\n",
      "At random state 72, The training accuracy is: 0.09473196339215395\n",
      "At random state 72, The test accuracy is: 0.11350912928984225\n",
      "\n",
      "\n",
      "At random state 73, The training accuracy is: 0.09254228523131369\n",
      "At random state 73, The test accuracy is: 0.12592963257100542\n",
      "\n",
      "\n",
      "At random state 74, The training accuracy is: 0.10195861142761786\n",
      "At random state 74, The test accuracy is: 0.08494524839181172\n",
      "\n",
      "\n",
      "At random state 75, The training accuracy is: 0.09513861895887199\n",
      "At random state 75, The test accuracy is: 0.10569662330604801\n",
      "\n",
      "\n",
      "At random state 76, The training accuracy is: 0.09944361803910684\n",
      "At random state 76, The test accuracy is: 0.09033278467914785\n",
      "\n",
      "\n",
      "At random state 77, The training accuracy is: 0.10467621453647225\n",
      "At random state 77, The test accuracy is: 0.07596590858143737\n",
      "\n",
      "\n",
      "At random state 78, The training accuracy is: 0.10033501979449211\n",
      "At random state 78, The test accuracy is: 0.09329429441390713\n",
      "\n",
      "\n",
      "At random state 79, The training accuracy is: 0.09673293507091996\n",
      "At random state 79, The test accuracy is: 0.10726662736744508\n",
      "\n",
      "\n",
      "At random state 80, The training accuracy is: 0.09951715240625925\n",
      "At random state 80, The test accuracy is: 0.09692319994080911\n",
      "\n",
      "\n",
      "At random state 81, The training accuracy is: 0.10175346404793273\n",
      "At random state 81, The test accuracy is: 0.0864241618756908\n",
      "\n",
      "\n",
      "At random state 82, The training accuracy is: 0.10445697550712751\n",
      "At random state 82, The test accuracy is: 0.07343366183705191\n",
      "\n",
      "\n",
      "At random state 83, The training accuracy is: 0.10277079233678177\n",
      "At random state 83, The test accuracy is: 0.08173231224315869\n",
      "\n",
      "\n",
      "At random state 84, The training accuracy is: 0.10290701098583299\n",
      "At random state 84, The test accuracy is: 0.08117239144949417\n",
      "\n",
      "\n",
      "At random state 85, The training accuracy is: 0.09799949602733782\n",
      "At random state 85, The test accuracy is: 0.1024967026698893\n",
      "\n",
      "\n",
      "At random state 86, The training accuracy is: 0.09427394249389476\n",
      "At random state 86, The test accuracy is: 0.11743091043799114\n",
      "\n",
      "\n",
      "At random state 87, The training accuracy is: 0.09862914038224757\n",
      "At random state 87, The test accuracy is: 0.09934799431232799\n",
      "\n",
      "\n",
      "At random state 88, The training accuracy is: 0.0939328075777549\n",
      "At random state 88, The test accuracy is: 0.11720359342144238\n",
      "\n",
      "\n",
      "At random state 89, The training accuracy is: 0.10177810429540313\n",
      "At random state 89, The test accuracy is: 0.08814838911192391\n",
      "\n",
      "\n",
      "At random state 90, The training accuracy is: 0.09955764634830733\n",
      "At random state 90, The test accuracy is: 0.09591003543152488\n",
      "\n",
      "\n",
      "At random state 91, The training accuracy is: 0.10091857537547377\n",
      "At random state 91, The test accuracy is: 0.09105035154406071\n",
      "\n",
      "\n",
      "At random state 92, The training accuracy is: 0.09767243742257037\n",
      "At random state 92, The test accuracy is: 0.10201817834645921\n",
      "\n",
      "\n",
      "At random state 93, The training accuracy is: 0.09314641393171885\n",
      "At random state 93, The test accuracy is: 0.1193383300207781\n",
      "\n",
      "\n",
      "At random state 94, The training accuracy is: 0.09725510092706335\n",
      "At random state 94, The test accuracy is: 0.10452723374915585\n",
      "\n",
      "\n",
      "At random state 95, The training accuracy is: 0.10200498327125262\n",
      "At random state 95, The test accuracy is: 0.08487282632676074\n",
      "\n",
      "\n",
      "At random state 96, The training accuracy is: 0.10192310693684214\n",
      "At random state 96, The test accuracy is: 0.08499207300922906\n",
      "\n",
      "\n",
      "At random state 97, The training accuracy is: 0.09940037986012273\n",
      "At random state 97, The test accuracy is: 0.09703511469559178\n",
      "\n",
      "\n",
      "At random state 98, The training accuracy is: 0.095432944399919\n",
      "At random state 98, The test accuracy is: 0.11235919563533725\n",
      "\n",
      "\n",
      "At random state 99, The training accuracy is: 0.09928517195349296\n",
      "At random state 99, The test accuracy is: 0.09789881777926612\n",
      "\n",
      "\n",
      "At random state 100, The training accuracy is: 0.1024515548214796\n",
      "At random state 100, The test accuracy is: 0.08310394999898574\n",
      "\n",
      "\n",
      "At random state 101, The training accuracy is: 0.09329393562585231\n",
      "At random state 101, The test accuracy is: 0.1207661360764759\n",
      "\n",
      "\n",
      "At random state 102, The training accuracy is: 0.09502426913604789\n",
      "At random state 102, The test accuracy is: 0.11340585400318526\n",
      "\n",
      "\n",
      "At random state 103, The training accuracy is: 0.09591041945966305\n",
      "At random state 103, The test accuracy is: 0.11062138115761999\n",
      "\n",
      "\n",
      "At random state 104, The training accuracy is: 0.10565769352444654\n",
      "At random state 104, The test accuracy is: 0.06262272895380572\n",
      "\n",
      "\n",
      "At random state 105, The training accuracy is: 0.09887733687791433\n",
      "At random state 105, The test accuracy is: 0.09867199535771454\n",
      "\n",
      "\n",
      "At random state 106, The training accuracy is: 0.0983114873504437\n",
      "At random state 106, The test accuracy is: 0.10071750006866187\n",
      "\n",
      "\n",
      "At random state 107, The training accuracy is: 0.10157451676937379\n",
      "At random state 107, The test accuracy is: 0.08786897851849884\n",
      "\n",
      "\n",
      "At random state 108, The training accuracy is: 0.09785562064767439\n",
      "At random state 108, The test accuracy is: 0.1025361771943829\n",
      "\n",
      "\n",
      "At random state 109, The training accuracy is: 0.10014108858493287\n",
      "At random state 109, The test accuracy is: 0.09359375818614868\n",
      "\n",
      "\n",
      "At random state 110, The training accuracy is: 0.09986731623849576\n",
      "At random state 110, The test accuracy is: 0.09348140179379594\n",
      "\n",
      "\n",
      "At random state 111, The training accuracy is: 0.10068905929089522\n",
      "At random state 111, The test accuracy is: 0.08920129196577875\n",
      "\n",
      "\n",
      "At random state 112, The training accuracy is: 0.09618726434836411\n",
      "At random state 112, The test accuracy is: 0.10910260201072253\n",
      "\n",
      "\n",
      "At random state 113, The training accuracy is: 0.10191818851891121\n",
      "At random state 113, The test accuracy is: 0.0857961224783459\n",
      "\n",
      "\n",
      "At random state 114, The training accuracy is: 0.0957834482696508\n",
      "At random state 114, The test accuracy is: 0.11185118460261056\n",
      "\n",
      "\n",
      "At random state 115, The training accuracy is: 0.09727981717141632\n",
      "At random state 115, The test accuracy is: 0.10529882612476127\n",
      "\n",
      "\n",
      "At random state 116, The training accuracy is: 0.10464827252830344\n",
      "At random state 116, The test accuracy is: 0.0723406020588877\n",
      "\n",
      "\n",
      "At random state 117, The training accuracy is: 0.10171594824461838\n",
      "At random state 117, The test accuracy is: 0.0865032115471005\n",
      "\n",
      "\n",
      "At random state 118, The training accuracy is: 0.09686952917884628\n",
      "At random state 118, The test accuracy is: 0.10663627547008725\n",
      "\n",
      "\n",
      "At random state 119, The training accuracy is: 0.10044571768728305\n",
      "At random state 119, The test accuracy is: 0.09150695694166344\n",
      "\n",
      "\n",
      "At random state 120, The training accuracy is: 0.10697945105961215\n",
      "At random state 120, The test accuracy is: 0.06748334393559252\n",
      "\n",
      "\n",
      "At random state 121, The training accuracy is: 0.09774794432518441\n",
      "At random state 121, The test accuracy is: 0.1009954056398642\n",
      "\n",
      "\n",
      "At random state 122, The training accuracy is: 0.10553155448137541\n",
      "At random state 122, The test accuracy is: 0.06977038011127468\n",
      "\n",
      "\n",
      "At random state 123, The training accuracy is: 0.10577275914914885\n",
      "At random state 123, The test accuracy is: 0.07065026213045134\n",
      "\n",
      "\n",
      "At random state 124, The training accuracy is: 0.09862112483317953\n",
      "At random state 124, The test accuracy is: 0.09924929252583725\n",
      "\n",
      "\n",
      "At random state 125, The training accuracy is: 0.10016464976843276\n",
      "At random state 125, The test accuracy is: 0.0930401307981652\n",
      "\n",
      "\n",
      "At random state 126, The training accuracy is: 0.09678694625381534\n",
      "At random state 126, The test accuracy is: 0.10564390863028861\n",
      "\n",
      "\n",
      "At random state 127, The training accuracy is: 0.09783381466200092\n",
      "At random state 127, The test accuracy is: 0.10303599274473252\n",
      "\n",
      "\n",
      "At random state 128, The training accuracy is: 0.10003476266652078\n",
      "At random state 128, The test accuracy is: 0.09466450161897844\n",
      "\n",
      "\n",
      "At random state 129, The training accuracy is: 0.09558864105590092\n",
      "At random state 129, The test accuracy is: 0.1075581562935124\n",
      "\n",
      "\n",
      "At random state 130, The training accuracy is: 0.09689604376118355\n",
      "At random state 130, The test accuracy is: 0.10610115948462517\n",
      "\n",
      "\n",
      "At random state 131, The training accuracy is: 0.10431898585943589\n",
      "At random state 131, The test accuracy is: 0.07522787862310587\n",
      "\n",
      "\n",
      "At random state 132, The training accuracy is: 0.09074111222923364\n",
      "At random state 132, The test accuracy is: 0.1310960216588163\n",
      "\n",
      "\n",
      "At random state 133, The training accuracy is: 0.10395141639270722\n",
      "At random state 133, The test accuracy is: 0.07789847969743169\n",
      "\n",
      "\n",
      "At random state 134, The training accuracy is: 0.10392577006046788\n",
      "At random state 134, The test accuracy is: 0.07744475079885993\n",
      "\n",
      "\n",
      "At random state 135, The training accuracy is: 0.09829030724472887\n",
      "At random state 135, The test accuracy is: 0.10166038354432594\n",
      "\n",
      "\n",
      "At random state 136, The training accuracy is: 0.10028677860049218\n",
      "At random state 136, The test accuracy is: 0.09214550550717471\n",
      "\n",
      "\n",
      "At random state 137, The training accuracy is: 0.10060861471286475\n",
      "At random state 137, The test accuracy is: 0.09013881896301723\n",
      "\n",
      "\n",
      "At random state 138, The training accuracy is: 0.09484074435574408\n",
      "At random state 138, The test accuracy is: 0.11266618893918756\n",
      "\n",
      "\n",
      "At random state 139, The training accuracy is: 0.09753997152800398\n",
      "At random state 139, The test accuracy is: 0.1005115421883983\n",
      "\n",
      "\n",
      "At random state 140, The training accuracy is: 0.0967258532036851\n",
      "At random state 140, The test accuracy is: 0.10568358656334931\n",
      "\n",
      "\n",
      "At random state 141, The training accuracy is: 0.0987735923645926\n",
      "At random state 141, The test accuracy is: 0.09968558549736506\n",
      "\n",
      "\n",
      "At random state 142, The training accuracy is: 0.09918197787947625\n",
      "At random state 142, The test accuracy is: 0.09476803505614162\n",
      "\n",
      "\n",
      "At random state 143, The training accuracy is: 0.09768517188519554\n",
      "At random state 143, The test accuracy is: 0.10284636176934558\n",
      "\n",
      "\n",
      "At random state 144, The training accuracy is: 0.10078412061783637\n",
      "At random state 144, The test accuracy is: 0.0894347211286981\n",
      "\n",
      "\n",
      "At random state 145, The training accuracy is: 0.09812925068441924\n",
      "At random state 145, The test accuracy is: 0.10150674438515739\n",
      "\n",
      "\n",
      "At random state 146, The training accuracy is: 0.09663344989297729\n",
      "At random state 146, The test accuracy is: 0.10728671681723434\n",
      "\n",
      "\n",
      "At random state 147, The training accuracy is: 0.10370279180086073\n",
      "At random state 147, The test accuracy is: 0.0756458727458208\n",
      "\n",
      "\n",
      "At random state 148, The training accuracy is: 0.09740895031641394\n",
      "At random state 148, The test accuracy is: 0.10457552794864666\n",
      "\n",
      "\n",
      "At random state 149, The training accuracy is: 0.09577688860532785\n",
      "At random state 149, The test accuracy is: 0.11067032257202403\n",
      "\n",
      "\n",
      "At random state 150, The training accuracy is: 0.09902939941823952\n",
      "At random state 150, The test accuracy is: 0.09648211625242831\n",
      "\n",
      "\n",
      "At random state 151, The training accuracy is: 0.09434562847071737\n",
      "At random state 151, The test accuracy is: 0.11722107601234688\n",
      "\n",
      "\n",
      "At random state 152, The training accuracy is: 0.09467732891830194\n",
      "At random state 152, The test accuracy is: 0.10776385648692655\n",
      "\n",
      "\n",
      "At random state 153, The training accuracy is: 0.09474090190704265\n",
      "At random state 153, The test accuracy is: 0.11353683415388038\n",
      "\n",
      "\n",
      "At random state 154, The training accuracy is: 0.10111381108476902\n",
      "At random state 154, The test accuracy is: 0.08718620512123731\n",
      "\n",
      "\n",
      "At random state 155, The training accuracy is: 0.10248723502011003\n",
      "At random state 155, The test accuracy is: 0.08028412642429916\n",
      "\n",
      "\n",
      "At random state 156, The training accuracy is: 0.09373397804402028\n",
      "At random state 156, The test accuracy is: 0.11761997192850837\n",
      "\n",
      "\n",
      "At random state 157, The training accuracy is: 0.1034324887781386\n",
      "At random state 157, The test accuracy is: 0.07927429113216455\n",
      "\n",
      "\n",
      "At random state 158, The training accuracy is: 0.09569811274351037\n",
      "At random state 158, The test accuracy is: 0.1105620767455815\n",
      "\n",
      "\n",
      "At random state 159, The training accuracy is: 0.11025143272028903\n",
      "At random state 159, The test accuracy is: 0.05197726646743783\n",
      "\n",
      "\n",
      "At random state 160, The training accuracy is: 0.09464211256258159\n",
      "At random state 160, The test accuracy is: 0.11110094180759589\n",
      "\n",
      "\n",
      "At random state 161, The training accuracy is: 0.10196985066870712\n",
      "At random state 161, The test accuracy is: 0.0870665291974283\n",
      "\n",
      "\n",
      "At random state 162, The training accuracy is: 0.10126140622902757\n",
      "At random state 162, The test accuracy is: 0.08919858998576313\n",
      "\n",
      "\n",
      "At random state 163, The training accuracy is: 0.11088841836676244\n",
      "At random state 163, The test accuracy is: 0.044041075755611114\n",
      "\n",
      "\n",
      "At random state 164, The training accuracy is: 0.10255769736277853\n",
      "At random state 164, The test accuracy is: 0.07985930182931944\n",
      "\n",
      "\n",
      "At random state 165, The training accuracy is: 0.09712716587475123\n",
      "At random state 165, The test accuracy is: 0.10654557860829938\n",
      "\n",
      "\n",
      "At random state 166, The training accuracy is: 0.09957111286769138\n",
      "At random state 166, The test accuracy is: 0.09394200281547371\n",
      "\n",
      "\n",
      "At random state 167, The training accuracy is: 0.09900729248662987\n",
      "At random state 167, The test accuracy is: 0.0976526037432559\n",
      "\n",
      "\n",
      "At random state 168, The training accuracy is: 0.09516120083030721\n",
      "At random state 168, The test accuracy is: 0.10865352379714721\n",
      "\n",
      "\n",
      "At random state 169, The training accuracy is: 0.0970558086735599\n",
      "At random state 169, The test accuracy is: 0.1054398182938896\n",
      "\n",
      "\n",
      "At random state 170, The training accuracy is: 0.09762349900697131\n",
      "At random state 170, The test accuracy is: 0.10126617426170614\n",
      "\n",
      "\n",
      "At random state 171, The training accuracy is: 0.10264569095932463\n",
      "At random state 171, The test accuracy is: 0.08364176987657845\n",
      "\n",
      "\n",
      "At random state 172, The training accuracy is: 0.10029837007074682\n",
      "At random state 172, The test accuracy is: 0.09320649355330024\n",
      "\n",
      "\n",
      "At random state 173, The training accuracy is: 0.10954898759415432\n",
      "At random state 173, The test accuracy is: 0.053362201277665444\n",
      "\n",
      "\n",
      "At random state 174, The training accuracy is: 0.09950813227663835\n",
      "At random state 174, The test accuracy is: 0.09157799476236428\n",
      "\n",
      "\n",
      "At random state 175, The training accuracy is: 0.09676091463605652\n",
      "At random state 175, The test accuracy is: 0.10684798678275764\n",
      "\n",
      "\n",
      "At random state 176, The training accuracy is: 0.09641732687114268\n",
      "At random state 176, The test accuracy is: 0.1090535939381645\n",
      "\n",
      "\n",
      "At random state 177, The training accuracy is: 0.10087274910154409\n",
      "At random state 177, The test accuracy is: 0.09010287650740267\n",
      "\n",
      "\n",
      "At random state 178, The training accuracy is: 0.10033940382418083\n",
      "At random state 178, The test accuracy is: 0.09221997324496778\n",
      "\n",
      "\n",
      "At random state 179, The training accuracy is: 0.10565114278147247\n",
      "At random state 179, The test accuracy is: 0.06813636961174441\n",
      "\n",
      "\n",
      "At random state 180, The training accuracy is: 0.09815608553509736\n",
      "At random state 180, The test accuracy is: 0.10153307308835113\n",
      "\n",
      "\n",
      "At random state 181, The training accuracy is: 0.09546247759626292\n",
      "At random state 181, The test accuracy is: 0.11224760075159468\n",
      "\n",
      "\n",
      "At random state 182, The training accuracy is: 0.09566527676133685\n",
      "At random state 182, The test accuracy is: 0.11078377961286157\n",
      "\n",
      "\n",
      "At random state 183, The training accuracy is: 0.10072120392075301\n",
      "At random state 183, The test accuracy is: 0.09061458533034916\n",
      "\n",
      "\n",
      "At random state 184, The training accuracy is: 0.10118853562049468\n",
      "At random state 184, The test accuracy is: 0.08554379103563381\n",
      "\n",
      "\n",
      "At random state 185, The training accuracy is: 0.10124115420816882\n",
      "At random state 185, The test accuracy is: 0.08901223947641834\n",
      "\n",
      "\n",
      "At random state 186, The training accuracy is: 0.10157115560485708\n",
      "At random state 186, The test accuracy is: 0.08635273872204463\n",
      "\n",
      "\n",
      "At random state 187, The training accuracy is: 0.09443177493106103\n",
      "At random state 187, The test accuracy is: 0.11647902282428602\n",
      "\n",
      "\n",
      "At random state 188, The training accuracy is: 0.10451916501513836\n",
      "At random state 188, The test accuracy is: 0.07288382398891768\n",
      "\n",
      "\n",
      "At random state 189, The training accuracy is: 0.10352997433395728\n",
      "At random state 189, The test accuracy is: 0.07978677014398661\n",
      "\n",
      "\n",
      "At random state 190, The training accuracy is: 0.10117225959050213\n",
      "At random state 190, The test accuracy is: 0.08812816446936067\n",
      "\n",
      "\n",
      "At random state 191, The training accuracy is: 0.09844054900972021\n",
      "At random state 191, The test accuracy is: 0.10058610722923433\n",
      "\n",
      "\n",
      "At random state 192, The training accuracy is: 0.1014793517078243\n",
      "At random state 192, The test accuracy is: 0.0885670555298892\n",
      "\n",
      "\n",
      "At random state 193, The training accuracy is: 0.09773179313686275\n",
      "At random state 193, The test accuracy is: 0.10337068424583629\n",
      "\n",
      "\n",
      "At random state 194, The training accuracy is: 0.09498212303595255\n",
      "At random state 194, The test accuracy is: 0.11463637183978459\n",
      "\n",
      "\n",
      "At random state 195, The training accuracy is: 0.09427619952816813\n",
      "At random state 195, The test accuracy is: 0.11654452029805196\n",
      "\n",
      "\n",
      "At random state 196, The training accuracy is: 0.10533447287594344\n",
      "At random state 196, The test accuracy is: 0.07337727469507138\n",
      "\n",
      "\n",
      "At random state 197, The training accuracy is: 0.09688345062621384\n",
      "At random state 197, The test accuracy is: 0.10500771847740686\n",
      "\n",
      "\n",
      "At random state 198, The training accuracy is: 0.10025844545040108\n",
      "At random state 198, The test accuracy is: 0.09369892470303998\n",
      "\n",
      "\n",
      "At random state 199, The training accuracy is: 0.09832989891008326\n",
      "At random state 199, The test accuracy is: 0.10092081133948216\n",
      "\n",
      "\n",
      "At random state 200, The training accuracy is: 0.1030603822910855\n",
      "At random state 200, The test accuracy is: 0.07995851423840095\n",
      "\n",
      "\n",
      "At random state 201, The training accuracy is: 0.10228969181911973\n",
      "At random state 201, The test accuracy is: 0.08189376009742733\n",
      "\n",
      "\n",
      "At random state 202, The training accuracy is: 0.09809182502206903\n",
      "At random state 202, The test accuracy is: 0.1000299595616232\n",
      "\n",
      "\n",
      "At random state 203, The training accuracy is: 0.09597775143728127\n",
      "At random state 203, The test accuracy is: 0.11103864785117723\n",
      "\n",
      "\n",
      "At random state 204, The training accuracy is: 0.10123718937953297\n",
      "At random state 204, The test accuracy is: 0.0874834284429703\n",
      "\n",
      "\n",
      "At random state 205, The training accuracy is: 0.0991963143799992\n",
      "At random state 205, The test accuracy is: 0.09698947164075877\n",
      "\n",
      "\n",
      "At random state 206, The training accuracy is: 0.09806137147414284\n",
      "At random state 206, The test accuracy is: 0.1016288503285665\n",
      "\n",
      "\n",
      "At random state 207, The training accuracy is: 0.09997659718053786\n",
      "At random state 207, The test accuracy is: 0.09373438822246105\n",
      "\n",
      "\n",
      "At random state 208, The training accuracy is: 0.09842764546047444\n",
      "At random state 208, The test accuracy is: 0.08899550863880468\n",
      "\n",
      "\n",
      "At random state 209, The training accuracy is: 0.10046324579066834\n",
      "At random state 209, The test accuracy is: 0.09258581991925974\n",
      "\n",
      "\n",
      "At random state 210, The training accuracy is: 0.10178356523100218\n",
      "At random state 210, The test accuracy is: 0.08599034224369462\n",
      "\n",
      "\n",
      "At random state 211, The training accuracy is: 0.09452979201211609\n",
      "At random state 211, The test accuracy is: 0.11667289875379006\n",
      "\n",
      "\n",
      "At random state 212, The training accuracy is: 0.1000207953926322\n",
      "At random state 212, The test accuracy is: 0.09443655787084293\n",
      "\n",
      "\n",
      "At random state 213, The training accuracy is: 0.09993291303965202\n",
      "At random state 213, The test accuracy is: 0.09457140504846806\n",
      "\n",
      "\n",
      "At random state 214, The training accuracy is: 0.09658966475092456\n",
      "At random state 214, The test accuracy is: 0.10783973831166727\n",
      "\n",
      "\n",
      "At random state 215, The training accuracy is: 0.10075028988288204\n",
      "At random state 215, The test accuracy is: 0.09138052017070697\n",
      "\n",
      "\n",
      "At random state 216, The training accuracy is: 0.10710408868366028\n",
      "At random state 216, The test accuracy is: 0.06217491843097078\n",
      "\n",
      "\n",
      "At random state 217, The training accuracy is: 0.10196110616264809\n",
      "At random state 217, The test accuracy is: 0.08375780247705733\n",
      "\n",
      "\n",
      "At random state 218, The training accuracy is: 0.0951548958160513\n",
      "At random state 218, The test accuracy is: 0.11325854244395184\n",
      "\n",
      "\n",
      "At random state 219, The training accuracy is: 0.09919782329357818\n",
      "At random state 219, The test accuracy is: 0.0969788171560837\n",
      "\n",
      "\n",
      "At random state 220, The training accuracy is: 0.09312981783773966\n",
      "At random state 220, The test accuracy is: 0.12061098494495448\n",
      "\n",
      "\n",
      "At random state 221, The training accuracy is: 0.09889899909993294\n",
      "At random state 221, The test accuracy is: 0.09858798341312536\n",
      "\n",
      "\n",
      "At random state 222, The training accuracy is: 0.09305383435285952\n",
      "At random state 222, The test accuracy is: 0.12104063319572278\n",
      "\n",
      "\n",
      "At random state 223, The training accuracy is: 0.09914169581765953\n",
      "At random state 223, The test accuracy is: 0.09635027472363078\n",
      "\n",
      "\n",
      "At random state 224, The training accuracy is: 0.10688354615183215\n",
      "At random state 224, The test accuracy is: 0.061870324630584395\n",
      "\n",
      "\n",
      "At random state 225, The training accuracy is: 0.09630339501954377\n",
      "At random state 225, The test accuracy is: 0.10836031678918556\n",
      "\n",
      "\n",
      "At random state 226, The training accuracy is: 0.10248583071653228\n",
      "At random state 226, The test accuracy is: 0.08030670656549588\n",
      "\n",
      "\n",
      "At random state 227, The training accuracy is: 0.10065507687412567\n",
      "At random state 227, The test accuracy is: 0.09158113755191288\n",
      "\n",
      "\n",
      "At random state 228, The training accuracy is: 0.10284492316046989\n",
      "At random state 228, The test accuracy is: 0.082790964290818\n",
      "\n",
      "\n",
      "At random state 229, The training accuracy is: 0.09484122774834725\n",
      "At random state 229, The test accuracy is: 0.11360851035162367\n",
      "\n",
      "\n",
      "At random state 230, The training accuracy is: 0.09803644901765096\n",
      "At random state 230, The test accuracy is: 0.10165368844694844\n",
      "\n",
      "\n",
      "At random state 231, The training accuracy is: 0.09740309474127706\n",
      "At random state 231, The test accuracy is: 0.10408429134451902\n",
      "\n",
      "\n",
      "At random state 232, The training accuracy is: 0.10571725401967658\n",
      "At random state 232, The test accuracy is: 0.07144368541890234\n",
      "\n",
      "\n",
      "At random state 233, The training accuracy is: 0.09212756032478486\n",
      "At random state 233, The test accuracy is: 0.12481697523974922\n",
      "\n",
      "\n",
      "At random state 234, The training accuracy is: 0.09234357148020944\n",
      "At random state 234, The test accuracy is: 0.12106471538353658\n",
      "\n",
      "\n",
      "At random state 235, The training accuracy is: 0.10075736345284902\n",
      "At random state 235, The test accuracy is: 0.08871124958449494\n",
      "\n",
      "\n",
      "At random state 236, The training accuracy is: 0.10469135415703956\n",
      "At random state 236, The test accuracy is: 0.07377713340327685\n",
      "\n",
      "\n",
      "At random state 237, The training accuracy is: 0.09533760104052691\n",
      "At random state 237, The test accuracy is: 0.11189638374312383\n",
      "\n",
      "\n",
      "At random state 238, The training accuracy is: 0.09616434839426669\n",
      "At random state 238, The test accuracy is: 0.10906611294959001\n",
      "\n",
      "\n",
      "At random state 239, The training accuracy is: 0.10430815193285137\n",
      "At random state 239, The test accuracy is: 0.07683249857792718\n",
      "\n",
      "\n",
      "At random state 240, The training accuracy is: 0.09923794117173879\n",
      "At random state 240, The test accuracy is: 0.0975901569642249\n",
      "\n",
      "\n",
      "At random state 241, The training accuracy is: 0.0957045441802058\n",
      "At random state 241, The test accuracy is: 0.10935660629394084\n",
      "\n",
      "\n",
      "At random state 242, The training accuracy is: 0.09879531638128636\n",
      "At random state 242, The test accuracy is: 0.0964280675725927\n",
      "\n",
      "\n",
      "At random state 243, The training accuracy is: 0.09413945189286332\n",
      "At random state 243, The test accuracy is: 0.11377874423606005\n",
      "\n",
      "\n",
      "At random state 244, The training accuracy is: 0.10017400741729432\n",
      "At random state 244, The test accuracy is: 0.09296704639569708\n",
      "\n",
      "\n",
      "At random state 245, The training accuracy is: 0.0939156578095578\n",
      "At random state 245, The test accuracy is: 0.11553546769587031\n",
      "\n",
      "\n",
      "At random state 246, The training accuracy is: 0.10206368206568772\n",
      "At random state 246, The test accuracy is: 0.08571422573043841\n",
      "\n",
      "\n",
      "At random state 247, The training accuracy is: 0.10202356008813662\n",
      "At random state 247, The test accuracy is: 0.08416905513746986\n",
      "\n",
      "\n",
      "At random state 248, The training accuracy is: 0.09849152196796429\n",
      "At random state 248, The test accuracy is: 0.09924236408438492\n",
      "\n",
      "\n",
      "At random state 249, The training accuracy is: 0.10269089492946692\n",
      "At random state 249, The test accuracy is: 0.07675729967932454\n",
      "\n",
      "\n",
      "At random state 250, The training accuracy is: 0.09874464980960906\n",
      "At random state 250, The test accuracy is: 0.09367373809376045\n",
      "\n",
      "\n",
      "At random state 251, The training accuracy is: 0.10072175667036565\n",
      "At random state 251, The test accuracy is: 0.09093382775273429\n",
      "\n",
      "\n",
      "At random state 252, The training accuracy is: 0.09793181396148976\n",
      "At random state 252, The test accuracy is: 0.0997782706294158\n",
      "\n",
      "\n",
      "At random state 253, The training accuracy is: 0.09697980415318996\n",
      "At random state 253, The test accuracy is: 0.10466124277462652\n",
      "\n",
      "\n",
      "At random state 254, The training accuracy is: 0.10150796556131791\n",
      "At random state 254, The test accuracy is: 0.08702473796551102\n",
      "\n",
      "\n",
      "At random state 255, The training accuracy is: 0.09493376362290429\n",
      "At random state 255, The test accuracy is: 0.11384100099614591\n",
      "\n",
      "\n",
      "At random state 256, The training accuracy is: 0.0984875307034132\n",
      "At random state 256, The test accuracy is: 0.10101931773058614\n",
      "\n",
      "\n",
      "At random state 257, The training accuracy is: 0.09736432988223798\n",
      "At random state 257, The test accuracy is: 0.10186748396525125\n",
      "\n",
      "\n",
      "At random state 258, The training accuracy is: 0.09569993594386494\n",
      "At random state 258, The test accuracy is: 0.11098989940220871\n",
      "\n",
      "\n",
      "At random state 259, The training accuracy is: 0.10224719923525494\n",
      "At random state 259, The test accuracy is: 0.08597033171660828\n",
      "\n",
      "\n",
      "At random state 260, The training accuracy is: 0.10005807831579816\n",
      "At random state 260, The test accuracy is: 0.09392975231482881\n",
      "\n",
      "\n",
      "At random state 261, The training accuracy is: 0.10213190932806471\n",
      "At random state 261, The test accuracy is: 0.08592898477435351\n",
      "\n",
      "\n",
      "At random state 262, The training accuracy is: 0.10318349034735697\n",
      "At random state 262, The test accuracy is: 0.07760103951713793\n",
      "\n",
      "\n",
      "At random state 263, The training accuracy is: 0.09665069126513415\n",
      "At random state 263, The test accuracy is: 0.10659812397464397\n",
      "\n",
      "\n",
      "At random state 264, The training accuracy is: 0.10029322066843993\n",
      "At random state 264, The test accuracy is: 0.09159642202548446\n",
      "\n",
      "\n",
      "At random state 265, The training accuracy is: 0.10242219072954406\n",
      "At random state 265, The test accuracy is: 0.08328694919502666\n",
      "\n",
      "\n",
      "At random state 266, The training accuracy is: 0.0965360840228855\n",
      "At random state 266, The test accuracy is: 0.1082442428941357\n",
      "\n",
      "\n",
      "At random state 267, The training accuracy is: 0.09559482218454662\n",
      "At random state 267, The test accuracy is: 0.11022202431725836\n",
      "\n",
      "\n",
      "At random state 268, The training accuracy is: 0.09956778154753099\n",
      "At random state 268, The test accuracy is: 0.0951164693884261\n",
      "\n",
      "\n",
      "At random state 269, The training accuracy is: 0.09446483949175721\n",
      "At random state 269, The test accuracy is: 0.11394250384290416\n",
      "\n",
      "\n",
      "At random state 270, The training accuracy is: 0.09782050329963454\n",
      "At random state 270, The test accuracy is: 0.1021604005507385\n",
      "\n",
      "\n",
      "At random state 271, The training accuracy is: 0.10182384155677393\n",
      "At random state 271, The test accuracy is: 0.0871189197998763\n",
      "\n",
      "\n",
      "At random state 272, The training accuracy is: 0.09485860470161822\n",
      "At random state 272, The test accuracy is: 0.11476719837491578\n",
      "\n",
      "\n",
      "At random state 273, The training accuracy is: 0.10203647941978766\n",
      "At random state 273, The test accuracy is: 0.08642173424393662\n",
      "\n",
      "\n",
      "At random state 274, The training accuracy is: 0.09981377839406624\n",
      "At random state 274, The test accuracy is: 0.09461186199121663\n",
      "\n",
      "\n",
      "At random state 275, The training accuracy is: 0.09532071225990935\n",
      "At random state 275, The test accuracy is: 0.11262281534023033\n",
      "\n",
      "\n",
      "At random state 276, The training accuracy is: 0.10240305347641798\n",
      "At random state 276, The test accuracy is: 0.08349630626334503\n",
      "\n",
      "\n",
      "At random state 277, The training accuracy is: 0.10141503093665871\n",
      "At random state 277, The test accuracy is: 0.08825061049257799\n",
      "\n",
      "\n",
      "At random state 278, The training accuracy is: 0.10114689043535274\n",
      "At random state 278, The test accuracy is: 0.08930221253281712\n",
      "\n",
      "\n",
      "At random state 279, The training accuracy is: 0.09793920259126809\n",
      "At random state 279, The test accuracy is: 0.10295326930631477\n",
      "\n",
      "\n",
      "At random state 280, The training accuracy is: 0.10105883089571244\n",
      "At random state 280, The test accuracy is: 0.08969015519343726\n",
      "\n",
      "\n",
      "At random state 281, The training accuracy is: 0.09957369258244986\n",
      "At random state 281, The test accuracy is: 0.09604911013346029\n",
      "\n",
      "\n",
      "At random state 282, The training accuracy is: 0.1011590371703609\n",
      "At random state 282, The test accuracy is: 0.09018394787572215\n",
      "\n",
      "\n",
      "At random state 283, The training accuracy is: 0.10169438418170729\n",
      "At random state 283, The test accuracy is: 0.0862894100121655\n",
      "\n",
      "\n",
      "At random state 284, The training accuracy is: 0.10035681607811986\n",
      "At random state 284, The test accuracy is: 0.09313343636293925\n",
      "\n",
      "\n",
      "At random state 285, The training accuracy is: 0.1001655284776074\n",
      "At random state 285, The test accuracy is: 0.09291466975746476\n",
      "\n",
      "\n",
      "At random state 286, The training accuracy is: 0.09688486178785982\n",
      "At random state 286, The test accuracy is: 0.10612637194001695\n",
      "\n",
      "\n",
      "At random state 287, The training accuracy is: 0.09746329223295647\n",
      "At random state 287, The test accuracy is: 0.10493796631801589\n",
      "\n",
      "\n",
      "At random state 288, The training accuracy is: 0.09849736605887749\n",
      "At random state 288, The test accuracy is: 0.09903852198591989\n",
      "\n",
      "\n",
      "At random state 289, The training accuracy is: 0.10039523166781039\n",
      "At random state 289, The test accuracy is: 0.09086985803868375\n",
      "\n",
      "\n",
      "At random state 290, The training accuracy is: 0.10194224363183735\n",
      "At random state 290, The test accuracy is: 0.08572416133637906\n",
      "\n",
      "\n",
      "At random state 291, The training accuracy is: 0.09885079444551526\n",
      "At random state 291, The test accuracy is: 0.09743062425698035\n",
      "\n",
      "\n",
      "At random state 292, The training accuracy is: 0.09944091658067966\n",
      "At random state 292, The test accuracy is: 0.09615954846653818\n",
      "\n",
      "\n",
      "At random state 293, The training accuracy is: 0.10003765450489599\n",
      "At random state 293, The test accuracy is: 0.09300548026267563\n",
      "\n",
      "\n",
      "At random state 294, The training accuracy is: 0.1064904236305182\n",
      "At random state 294, The test accuracy is: 0.06696860898886992\n",
      "\n",
      "\n",
      "At random state 295, The training accuracy is: 0.10385779609687107\n",
      "At random state 295, The test accuracy is: 0.07830437149462677\n",
      "\n",
      "\n",
      "At random state 296, The training accuracy is: 0.0962448643969499\n",
      "At random state 296, The test accuracy is: 0.10743996700487535\n",
      "\n",
      "\n",
      "At random state 297, The training accuracy is: 0.09548155497028987\n",
      "At random state 297, The test accuracy is: 0.10784989388527189\n",
      "\n",
      "\n",
      "At random state 298, The training accuracy is: 0.0973881761537333\n",
      "At random state 298, The test accuracy is: 0.10472223370309475\n",
      "\n",
      "\n",
      "At random state 299, The training accuracy is: 0.09919554210279824\n",
      "At random state 299, The test accuracy is: 0.09662853393302251\n",
      "\n",
      "\n"
     ]
    }
   ],
   "source": [
    "from sklearn.linear_model import LinearRegression\n",
    "\n",
    "\n",
    "LR=LinearRegression()\n",
    "\n",
    "for i in range(0,300):\n",
    "    x_train,x_test,y_train,y_test=train_test_split(x,y,test_size=0.2,random_state=i)\n",
    "    LR.fit(x_train,y_train)\n",
    "    LR_predict_train=LR.predict(x_train)\n",
    "    LR_predict_test=LR.predict(x_test)\n",
    "    print(f'At random state {i}, The training accuracy is: {r2_score(y_train,LR_predict_train)}')\n",
    "    print(f'At random state {i}, The test accuracy is: {r2_score(y_test,LR_predict_test)}')\n",
    "    print('\\n')"
   ]
  },
  {
   "cell_type": "markdown",
   "metadata": {},
   "source": [
    "random state=42 giving highest accuracy, choosing that as random state"
   ]
  },
  {
   "cell_type": "markdown",
   "metadata": {},
   "source": [
    "#### SPLITTING THE DATA WITH RANDOM STATE =42"
   ]
  },
  {
   "cell_type": "code",
   "execution_count": 72,
   "metadata": {},
   "outputs": [],
   "source": [
    "#splitting the data into 70% training and 20% testing\n",
    "x_train,x_test,y_train,y_test=train_test_split(x,y,test_size=0.2,random_state=42)"
   ]
  },
  {
   "cell_type": "code",
   "execution_count": 73,
   "metadata": {
    "scrolled": true
   },
   "outputs": [
    {
     "data": {
      "text/plain": [
       "(4721, 5)"
      ]
     },
     "execution_count": 73,
     "metadata": {},
     "output_type": "execute_result"
    }
   ],
   "source": [
    "x_train.shape"
   ]
  },
  {
   "cell_type": "code",
   "execution_count": 74,
   "metadata": {},
   "outputs": [
    {
     "data": {
      "text/plain": [
       "(1181, 5)"
      ]
     },
     "execution_count": 74,
     "metadata": {},
     "output_type": "execute_result"
    }
   ],
   "source": [
    "x_test.shape"
   ]
  },
  {
   "cell_type": "code",
   "execution_count": 75,
   "metadata": {},
   "outputs": [
    {
     "data": {
      "text/plain": [
       "(4721,)"
      ]
     },
     "execution_count": 75,
     "metadata": {},
     "output_type": "execute_result"
    }
   ],
   "source": [
    "y_train.shape"
   ]
  },
  {
   "cell_type": "code",
   "execution_count": 76,
   "metadata": {},
   "outputs": [
    {
     "data": {
      "text/plain": [
       "(1181,)"
      ]
     },
     "execution_count": 76,
     "metadata": {},
     "output_type": "execute_result"
    }
   ],
   "source": [
    "y_test.shape"
   ]
  },
  {
   "cell_type": "code",
   "execution_count": 77,
   "metadata": {},
   "outputs": [
    {
     "name": "stdout",
     "output_type": "stream",
     "text": [
      "0.09339810004619498\n"
     ]
    }
   ],
   "source": [
    "from sklearn.linear_model import LinearRegression\n",
    "\n",
    "\n",
    "LR=LinearRegression()\n",
    "LR.fit(x_train,y_train)\n",
    "print(LR.score(x_train,y_train))\n",
    "LR_predict=LR.predict(x_test)"
   ]
  },
  {
   "cell_type": "code",
   "execution_count": 78,
   "metadata": {},
   "outputs": [
    {
     "name": "stdout",
     "output_type": "stream",
     "text": [
      "MSE: 31026.669188987624\n",
      "MAE: 143.52742165812893\n",
      "r2_score: -7.998872938027448\n"
     ]
    }
   ],
   "source": [
    "print('MSE:',mean_squared_error(LR_predict,y_test))\n",
    "print('MAE:',mean_absolute_error(LR_predict,y_test))\n",
    "print('r2_score:',r2_score(LR_predict,y_test))"
   ]
  },
  {
   "cell_type": "markdown",
   "metadata": {},
   "source": [
    "### Ridge"
   ]
  },
  {
   "cell_type": "code",
   "execution_count": 79,
   "metadata": {},
   "outputs": [
    {
     "name": "stdout",
     "output_type": "stream",
     "text": [
      "0.09339765450156268\n"
     ]
    }
   ],
   "source": [
    "from sklearn.linear_model import Ridge\n",
    "\n",
    "R=Ridge()\n",
    "R.fit(x_train,y_train)\n",
    "print(R.score(x_train,y_train))\n",
    "R_predict=R.predict(x_test)"
   ]
  },
  {
   "cell_type": "code",
   "execution_count": 80,
   "metadata": {},
   "outputs": [
    {
     "name": "stdout",
     "output_type": "stream",
     "text": [
      "MSE: 31027.668146057982\n",
      "MAE: 143.5394472969635\n",
      "r2_score: -8.03361042735412\n"
     ]
    }
   ],
   "source": [
    "print('MSE:',mean_squared_error(R_predict,y_test))\n",
    "print('MAE:',mean_absolute_error(R_predict,y_test))\n",
    "print('r2_score:',r2_score(R_predict,y_test))"
   ]
  },
  {
   "cell_type": "markdown",
   "metadata": {},
   "source": [
    "### SVR\n",
    "#### SVR(kernel='linear')"
   ]
  },
  {
   "cell_type": "code",
   "execution_count": 81,
   "metadata": {},
   "outputs": [
    {
     "name": "stdout",
     "output_type": "stream",
     "text": [
      "0.049248647663526324\n"
     ]
    }
   ],
   "source": [
    "from sklearn.svm import SVR\n",
    "\n",
    "svr=SVR(kernel='linear')\n",
    "svr.fit(x_train,y_train)\n",
    "print(svr.score(x_train,y_train))\n",
    "svr_predict=svr.predict(x_test)"
   ]
  },
  {
   "cell_type": "code",
   "execution_count": 82,
   "metadata": {},
   "outputs": [
    {
     "name": "stdout",
     "output_type": "stream",
     "text": [
      "MSE: 32474.254387961162\n",
      "MAE: 141.55537829730002\n",
      "r2_score: -11.772754090038715\n"
     ]
    }
   ],
   "source": [
    "print('MSE:',mean_squared_error(svr_predict,y_test))\n",
    "print('MAE:',mean_absolute_error(svr_predict,y_test))\n",
    "print('r2_score:',r2_score(svr_predict,y_test))"
   ]
  },
  {
   "cell_type": "markdown",
   "metadata": {},
   "source": [
    "#### SVR(kernel='poly')"
   ]
  },
  {
   "cell_type": "code",
   "execution_count": 83,
   "metadata": {},
   "outputs": [
    {
     "name": "stdout",
     "output_type": "stream",
     "text": [
      "0.06733948393212674\n"
     ]
    }
   ],
   "source": [
    "svr_p=SVR(kernel='poly')\n",
    "svr_p.fit(x_train,y_train)\n",
    "print(svr_p.score(x_train,y_train))\n",
    "svrpred_p=svr_p.predict(x_test)"
   ]
  },
  {
   "cell_type": "code",
   "execution_count": 84,
   "metadata": {},
   "outputs": [
    {
     "name": "stdout",
     "output_type": "stream",
     "text": [
      "MSE: 32014.58594284669\n",
      "MAE: 139.68191225107532\n",
      "r2_score: -6.733363996881094\n"
     ]
    }
   ],
   "source": [
    "print('MSE:',mean_squared_error(svrpred_p,y_test))\n",
    "print('MAE:',mean_absolute_error(svrpred_p,y_test))\n",
    "print('r2_score:',r2_score(svrpred_p,y_test))"
   ]
  },
  {
   "cell_type": "markdown",
   "metadata": {},
   "source": [
    "#### (kernel='rbf')"
   ]
  },
  {
   "cell_type": "code",
   "execution_count": 85,
   "metadata": {},
   "outputs": [
    {
     "name": "stdout",
     "output_type": "stream",
     "text": [
      "0.061049858548075986\n"
     ]
    }
   ],
   "source": [
    "svr_r=SVR(kernel='rbf')\n",
    "svr_r.fit(x_train,y_train)\n",
    "print(svr_r.score(x_train,y_train))\n",
    "svrpred_r=svr_r.predict(x_test)"
   ]
  },
  {
   "cell_type": "code",
   "execution_count": 86,
   "metadata": {},
   "outputs": [
    {
     "name": "stdout",
     "output_type": "stream",
     "text": [
      "MSE: 32186.430796093773\n",
      "MAE: 140.71552485877066\n",
      "r2_score: -14.045338886190915\n"
     ]
    }
   ],
   "source": [
    "print('MSE:',mean_squared_error(svrpred_r,y_test))\n",
    "print('MAE:',mean_absolute_error(svrpred_r,y_test))\n",
    "print('r2_score:',r2_score(svrpred_r,y_test))\n"
   ]
  },
  {
   "cell_type": "markdown",
   "metadata": {},
   "source": [
    "### RandomForestRegressor"
   ]
  },
  {
   "cell_type": "code",
   "execution_count": 87,
   "metadata": {},
   "outputs": [
    {
     "name": "stdout",
     "output_type": "stream",
     "text": [
      "0.7990879543774708\n"
     ]
    }
   ],
   "source": [
    "from sklearn.ensemble import RandomForestRegressor\n",
    "\n",
    "RF=RandomForestRegressor()\n",
    "RF.fit(x_train,y_train)\n",
    "print(RF.score(x_train,y_train))\n",
    "RF_PRED=RF.predict(x_test)"
   ]
  },
  {
   "cell_type": "code",
   "execution_count": 88,
   "metadata": {},
   "outputs": [
    {
     "name": "stdout",
     "output_type": "stream",
     "text": [
      "MSE: 33692.61436976887\n",
      "MAE: 140.94794849060222\n",
      "r2_score: -1.605283119470018\n"
     ]
    }
   ],
   "source": [
    "print('MSE:',mean_squared_error(RF_PRED,y_test))\n",
    "print('MAE:',mean_absolute_error(RF_PRED,y_test))\n",
    "print('r2_score:',r2_score(RF_PRED,y_test))"
   ]
  },
  {
   "cell_type": "markdown",
   "metadata": {},
   "source": [
    "### DecisionTreeRegressor"
   ]
  },
  {
   "cell_type": "code",
   "execution_count": 89,
   "metadata": {},
   "outputs": [
    {
     "name": "stdout",
     "output_type": "stream",
     "text": [
      "0.8999406046615361\n"
     ]
    }
   ],
   "source": [
    "from sklearn.tree import DecisionTreeRegressor\n",
    "\n",
    "DTR=DecisionTreeRegressor()\n",
    "DTR.fit(x_train,y_train)\n",
    "print(DTR.score(x_train,y_train))\n",
    "DTR_PRED=DTR.predict(x_test)"
   ]
  },
  {
   "cell_type": "code",
   "execution_count": 90,
   "metadata": {},
   "outputs": [
    {
     "name": "stdout",
     "output_type": "stream",
     "text": [
      "MSE: 53466.458710622275\n",
      "MAE: 168.80613012916146\n",
      "r2_score: -0.585053188667291\n"
     ]
    }
   ],
   "source": [
    "print('MSE:',mean_squared_error(DTR_PRED,y_test))\n",
    "print('MAE:',mean_absolute_error(DTR_PRED,y_test))\n",
    "print('r2_score:',r2_score(DTR_PRED,y_test))"
   ]
  },
  {
   "cell_type": "markdown",
   "metadata": {},
   "source": [
    "### GradientBoostingRegressor"
   ]
  },
  {
   "cell_type": "code",
   "execution_count": 91,
   "metadata": {},
   "outputs": [
    {
     "name": "stdout",
     "output_type": "stream",
     "text": [
      "0.25355584244036133\n"
     ]
    }
   ],
   "source": [
    "from sklearn.ensemble import GradientBoostingRegressor\n",
    "\n",
    "GBR=GradientBoostingRegressor()\n",
    "GBR.fit(x_train,y_train)\n",
    "print(GBR.score(x_train,y_train))\n",
    "GBR_PRED=GBR.predict(x_test)"
   ]
  },
  {
   "cell_type": "code",
   "execution_count": 92,
   "metadata": {},
   "outputs": [
    {
     "name": "stdout",
     "output_type": "stream",
     "text": [
      "MSE: 28294.172021677663\n",
      "MAE: 132.67018447930843\n",
      "r2_score: -3.1400104621957743\n"
     ]
    }
   ],
   "source": [
    "print('MSE:',mean_squared_error(GBR_PRED,y_test))\n",
    "print('MAE:',mean_absolute_error(GBR_PRED,y_test))\n",
    "print('r2_score:',r2_score(GBR_PRED,y_test))"
   ]
  },
  {
   "cell_type": "markdown",
   "metadata": {},
   "source": [
    "### cross validation\n"
   ]
  },
  {
   "cell_type": "code",
   "execution_count": 93,
   "metadata": {},
   "outputs": [
    {
     "name": "stdout",
     "output_type": "stream",
     "text": [
      "LR    : 31981.597920, 1628.942975\n",
      "R    : 31981.388817, 1628.103612\n",
      "svr    : 33334.778807, 1902.666123\n",
      "svr_p    : 33060.198511, 1794.916614\n",
      "svr_r    : 32940.063891, 1878.176029\n",
      "RF    : 33107.965890, 1771.496203\n",
      "DTR    : 53685.099038, 3281.703071\n",
      "GBR    : 28523.910224, 1314.934187\n"
     ]
    }
   ],
   "source": [
    "from sklearn.model_selection import cross_val_score\n",
    "\n",
    "np.random.seed(10)\n",
    "def rmse_cv(model, x,y):\n",
    "    rmse =- (cross_val_score(model, x,y, scoring='neg_mean_squared_error', cv=10))\n",
    "    return(rmse)\n",
    "\n",
    "\n",
    "models = [LinearRegression(),\n",
    "             Ridge(),\n",
    "             SVR(kernel='linear'),\n",
    "             SVR(kernel='poly'),\n",
    "             SVR(kernel='rbf'),\n",
    "             RandomForestRegressor(),\n",
    "             DecisionTreeRegressor(),  \n",
    "             GradientBoostingRegressor(),]\n",
    "            \n",
    "\n",
    "\n",
    "names = ['LR','R','svr','svr_p','svr_r','RF','DTR','GBR']\n",
    "\n",
    "for model,name in zip(models,names):\n",
    "    score = rmse_cv(model,x,y)\n",
    "    print(\"{}    : {:.6f}, {:4f}\".format(name,score.mean(),score.std()))"
   ]
  },
  {
   "cell_type": "markdown",
   "metadata": {},
   "source": [
    "#### -Accourding to all metrics score selecting the DecisionTreeRegressor for GridSeachCV"
   ]
  },
  {
   "cell_type": "markdown",
   "metadata": {},
   "source": [
    "## HYPER PARAMETER TUNING:\n"
   ]
  },
  {
   "cell_type": "markdown",
   "metadata": {},
   "source": [
    "## GridSearchCV\n",
    "\n",
    "#### DecisionTreeRegressor"
   ]
  },
  {
   "cell_type": "code",
   "execution_count": 94,
   "metadata": {},
   "outputs": [],
   "source": [
    "from sklearn.model_selection import GridSearchCV"
   ]
  },
  {
   "cell_type": "code",
   "execution_count": 95,
   "metadata": {},
   "outputs": [],
   "source": [
    "dtr=DecisionTreeRegressor()\n",
    "param={\n",
    "     'criterion':[\"mse\", \"friedman_mse\", \"mae\"],\n",
    "    'random_state':[42],\n",
    "    'splitter':['best','random'],\n",
    "   'max_features' : ['auto',\"sqrt\", \"log2\",],\n",
    "}"
   ]
  },
  {
   "cell_type": "code",
   "execution_count": 96,
   "metadata": {},
   "outputs": [],
   "source": [
    "dtr_grid=GridSearchCV(DecisionTreeRegressor(),param,cv=10,scoring='accuracy',n_jobs=-1,verbose=2)"
   ]
  },
  {
   "cell_type": "code",
   "execution_count": 97,
   "metadata": {},
   "outputs": [
    {
     "name": "stdout",
     "output_type": "stream",
     "text": [
      "Fitting 10 folds for each of 18 candidates, totalling 180 fits\n"
     ]
    }
   ],
   "source": [
    "dtr_grid.fit(x_train,y_train)\n",
    "dtr_grid_pred=dtr_grid.best_estimator_.predict(x_test)\n"
   ]
  },
  {
   "cell_type": "code",
   "execution_count": 98,
   "metadata": {},
   "outputs": [
    {
     "data": {
      "text/plain": [
       "{'criterion': 'mse',\n",
       " 'max_features': 'auto',\n",
       " 'random_state': 42,\n",
       " 'splitter': 'best'}"
      ]
     },
     "execution_count": 98,
     "metadata": {},
     "output_type": "execute_result"
    }
   ],
   "source": [
    "dtr_grid.best_params_"
   ]
  },
  {
   "cell_type": "markdown",
   "metadata": {},
   "source": [
    "#### model training with best parameters"
   ]
  },
  {
   "cell_type": "code",
   "execution_count": 99,
   "metadata": {},
   "outputs": [],
   "source": [
    "best_param={'criterion': ['mse'],\n",
    " 'max_features': ['sqrt'],\n",
    " 'random_state': [42],\n",
    " 'splitter': ['random']}"
   ]
  },
  {
   "cell_type": "code",
   "execution_count": 100,
   "metadata": {},
   "outputs": [],
   "source": [
    "best_dtr_grid=GridSearchCV(DecisionTreeRegressor(),best_param,cv=10,scoring='accuracy',n_jobs=-1,verbose=2)"
   ]
  },
  {
   "cell_type": "code",
   "execution_count": 101,
   "metadata": {},
   "outputs": [
    {
     "name": "stdout",
     "output_type": "stream",
     "text": [
      "Fitting 10 folds for each of 1 candidates, totalling 10 fits\n"
     ]
    }
   ],
   "source": [
    "best_dtr_grid.fit(x_train,y_train)\n",
    "best_dtr_pred=best_dtr_grid.best_estimator_.predict(x_test)"
   ]
  },
  {
   "cell_type": "code",
   "execution_count": 102,
   "metadata": {},
   "outputs": [
    {
     "name": "stdout",
     "output_type": "stream",
     "text": [
      "MSE: 50873.73733898019\n",
      "MAE: 161.1183352821795\n",
      "r2_score: -0.6848250021445783\n"
     ]
    }
   ],
   "source": [
    "print('MSE:',mean_squared_error(best_dtr_pred,y_test))\n",
    "print('MAE:',mean_absolute_error(best_dtr_pred,y_test))\n",
    "print('r2_score:',r2_score(best_dtr_pred,y_test))"
   ]
  },
  {
   "cell_type": "code",
   "execution_count": 103,
   "metadata": {
    "scrolled": false
   },
   "outputs": [
    {
     "data": {
      "text/plain": [
       "<AxesSubplot:xlabel='Fees', ylabel='Density'>"
      ]
     },
     "execution_count": 103,
     "metadata": {},
     "output_type": "execute_result"
    },
    {
     "data": {
      "image/png": "[encoded data removed]",
      "text/plain": [
       "<Figure size 432x288 with 1 Axes>"
      ]
     },
     "metadata": {
      "needs_background": "light"
     },
     "output_type": "display_data"
    }
   ],
   "source": [
    "sns.distplot(best_dtr_pred-y_test)"
   ]
  },
  {
   "cell_type": "markdown",
   "metadata": {},
   "source": [
    "## saving the model"
   ]
  },
  {
   "cell_type": "code",
   "execution_count": 104,
   "metadata": {},
   "outputs": [],
   "source": [
    "\n",
    "import joblib"
   ]
  },
  {
   "cell_type": "code",
   "execution_count": 105,
   "metadata": {},
   "outputs": [
    {
     "data": {
      "text/plain": [
       "['Doctor Consultation Fees Project.obj']"
      ]
     },
     "execution_count": 105,
     "metadata": {},
     "output_type": "execute_result"
    }
   ],
   "source": [
    "joblib.dump(best_dtr_grid.best_estimator_,'Doctor Consultation Fees Project.obj')"
   ]
  },
  {
   "cell_type": "code",
   "execution_count": 106,
   "metadata": {},
   "outputs": [],
   "source": [
    "model=joblib.load('Doctor Consultation Fees Project.obj')"
   ]
  },
  {
   "cell_type": "markdown",
   "metadata": {},
   "source": [
    "## Predicting df_test data on model"
   ]
  },
  {
   "cell_type": "code",
   "execution_count": 110,
   "metadata": {},
   "outputs": [
    {
     "data": {
      "text/plain": [
       "array([100., 100., 100., ..., 100., 100., 100.])"
      ]
     },
     "execution_count": 110,
     "metadata": {},
     "output_type": "execute_result"
    }
   ],
   "source": [
    "n=model.predict(df_test)\n",
    "n"
   ]
  },
  {
   "cell_type": "code",
   "execution_count": 111,
   "metadata": {},
   "outputs": [
    {
     "data": {
      "text/plain": [
       "100.0    1879\n",
       "400.0      81\n",
       "450.0      26\n",
       "50.0        1\n",
       "dtype: int64"
      ]
     },
     "execution_count": 111,
     "metadata": {},
     "output_type": "execute_result"
    }
   ],
   "source": [
    "pd.DataFrame(n).value_counts()"
   ]
  },
  {
   "cell_type": "code",
   "execution_count": null,
   "metadata": {},
   "outputs": [],
   "source": []
  },
  {
   "cell_type": "code",
   "execution_count": null,
   "metadata": {},
   "outputs": [],
   "source": []
  }
 ],
 "metadata": {
  "kernelspec": {
   "display_name": "Python 3",
   "language": "python",
   "name": "python3"
  },
  "language_info": {
   "codemirror_mode": {
    "name": "ipython",
    "version": 3
   },
   "file_extension": ".py",
   "mimetype": "text/x-python",
   "name": "python",
   "nbconvert_exporter": "python",
   "pygments_lexer": "ipython3",
   "version": "3.8.5"
  }
 },
 "nbformat": 4,
 "nbformat_minor": 4
}
